{
 "cells": [
  {
   "cell_type": "code",
   "execution_count": 4,
   "metadata": {},
   "outputs": [],
   "source": [
    "import glob"
   ]
  },
  {
   "cell_type": "code",
   "execution_count": 5,
   "metadata": {},
   "outputs": [],
   "source": [
    "import re"
   ]
  },
  {
   "cell_type": "code",
   "execution_count": 56,
   "metadata": {},
   "outputs": [],
   "source": [
    "records = []\n",
    "for filename in glob.glob(\"*.out\"):\n",
    "    d = {}\n",
    "    with open(filename) as f:\n",
    "        try:\n",
    "            while \"Simulation Timing Information:\" not in next(f):\n",
    "                pass\n",
    "        except StopIteration:\n",
    "            print(f\"input file {filename} format wrong\")\n",
    "            break\n",
    "        for i in range(4):\n",
    "            k,v = next(f).split(\":\")\n",
    "            k = k.strip()\n",
    "            v = v.strip()\n",
    "            d[k] = v\n",
    "\n",
    "        while \"Simulation Resource Information:\" not in next(f):\n",
    "            pass\n",
    "        for i in range(13):\n",
    "            k,v = next(f).split(\":\")\n",
    "            k = k.strip()\n",
    "            v = v.strip()\n",
    "            d[k] = v\n",
    "        for match in re.finditer(\"([a-zA-Z_]+)([0-9]+)\", filename):\n",
    "            k,v = match.groups()\n",
    "            d[k] = v\n",
    "    records.append(d)\n"
   ]
  },
  {
   "cell_type": "code",
   "execution_count": 57,
   "metadata": {},
   "outputs": [
    {
     "data": {
      "text/plain": [
       "64"
      ]
     },
     "execution_count": 57,
     "metadata": {},
     "output_type": "execute_result"
    }
   ],
   "source": [
    "len(records)"
   ]
  },
  {
   "cell_type": "code",
   "execution_count": 58,
   "metadata": {},
   "outputs": [],
   "source": [
    "import pandas as pd"
   ]
  },
  {
   "cell_type": "code",
   "execution_count": 59,
   "metadata": {},
   "outputs": [],
   "source": [
    "df = pd.DataFrame.from_records(records)"
   ]
  },
  {
   "cell_type": "code",
   "execution_count": 60,
   "metadata": {},
   "outputs": [
    {
     "data": {
      "text/html": [
       "<div>\n",
       "<style scoped>\n",
       "    .dataframe tbody tr th:only-of-type {\n",
       "        vertical-align: middle;\n",
       "    }\n",
       "\n",
       "    .dataframe tbody tr th {\n",
       "        vertical-align: top;\n",
       "    }\n",
       "\n",
       "    .dataframe thead th {\n",
       "        text-align: right;\n",
       "    }\n",
       "</style>\n",
       "<table border=\"1\" class=\"dataframe\">\n",
       "  <thead>\n",
       "    <tr style=\"text-align: right;\">\n",
       "      <th></th>\n",
       "      <th>Build time</th>\n",
       "      <th>Simulation time</th>\n",
       "      <th>Total time</th>\n",
       "      <th>Simulated time</th>\n",
       "      <th>Max Resident Set Size</th>\n",
       "      <th>Approx. Global Max RSS Size</th>\n",
       "      <th>Max Local Page Faults</th>\n",
       "      <th>Global Page Faults</th>\n",
       "      <th>Max Output Blocks</th>\n",
       "      <th>Max Input Blocks</th>\n",
       "      <th>Max mempool usage</th>\n",
       "      <th>Global mempool usage</th>\n",
       "      <th>Global active activities</th>\n",
       "      <th>Current global TimeVortex depth</th>\n",
       "      <th>Max TimeVortex depth</th>\n",
       "      <th>Max Sync data size</th>\n",
       "      <th>Global Sync data size</th>\n",
       "      <th>memory_mb</th>\n",
       "      <th>copy_mb</th>\n",
       "    </tr>\n",
       "  </thead>\n",
       "  <tbody>\n",
       "    <tr>\n",
       "      <th>0</th>\n",
       "      <td>0.139350 seconds</td>\n",
       "      <td>1480.297149 seconds</td>\n",
       "      <td>1480.436590 seconds</td>\n",
       "      <td>176.146 ms</td>\n",
       "      <td>332.12 MB</td>\n",
       "      <td>332.12 MB</td>\n",
       "      <td>0 faults</td>\n",
       "      <td>0 faults</td>\n",
       "      <td>0 blocks</td>\n",
       "      <td>0 blocks</td>\n",
       "      <td>204.617 MB</td>\n",
       "      <td>204.617 MB</td>\n",
       "      <td>2097159 activities</td>\n",
       "      <td>6 entries</td>\n",
       "      <td>17 entries</td>\n",
       "      <td>0 B</td>\n",
       "      <td>0 B</td>\n",
       "      <td>96</td>\n",
       "      <td>32</td>\n",
       "    </tr>\n",
       "    <tr>\n",
       "      <th>1</th>\n",
       "      <td>0.139659 seconds</td>\n",
       "      <td>4564.176592 seconds</td>\n",
       "      <td>4564.316342 seconds</td>\n",
       "      <td>528.468 ms</td>\n",
       "      <td>823.58 MB</td>\n",
       "      <td>823.58 MB</td>\n",
       "      <td>0 faults</td>\n",
       "      <td>0 faults</td>\n",
       "      <td>0 blocks</td>\n",
       "      <td>0 blocks</td>\n",
       "      <td>573.715 MB</td>\n",
       "      <td>573.715 MB</td>\n",
       "      <td>6291463 activities</td>\n",
       "      <td>6 entries</td>\n",
       "      <td>17 entries</td>\n",
       "      <td>0 B</td>\n",
       "      <td>0 B</td>\n",
       "      <td>160</td>\n",
       "      <td>96</td>\n",
       "    </tr>\n",
       "    <tr>\n",
       "      <th>2</th>\n",
       "      <td>0.139653 seconds</td>\n",
       "      <td>9421.627609 seconds</td>\n",
       "      <td>9421.767353 seconds</td>\n",
       "      <td>1.05695 s</td>\n",
       "      <td>1.56096 GB</td>\n",
       "      <td>1.56096 GB</td>\n",
       "      <td>0 faults</td>\n",
       "      <td>0 faults</td>\n",
       "      <td>0 blocks</td>\n",
       "      <td>0 blocks</td>\n",
       "      <td>1.12736 GB</td>\n",
       "      <td>1.12736 GB</td>\n",
       "      <td>12582919 activities</td>\n",
       "      <td>6 entries</td>\n",
       "      <td>17 entries</td>\n",
       "      <td>0 B</td>\n",
       "      <td>0 B</td>\n",
       "      <td>64</td>\n",
       "      <td>192</td>\n",
       "    </tr>\n",
       "    <tr>\n",
       "      <th>3</th>\n",
       "      <td>0.140271 seconds</td>\n",
       "      <td>12475.424247 seconds</td>\n",
       "      <td>12475.564607 seconds</td>\n",
       "      <td>1.40927 s</td>\n",
       "      <td>2.05203 GB</td>\n",
       "      <td>2.05203 GB</td>\n",
       "      <td>0 faults</td>\n",
       "      <td>0 faults</td>\n",
       "      <td>0 blocks</td>\n",
       "      <td>0 blocks</td>\n",
       "      <td>1.49646 GB</td>\n",
       "      <td>1.49646 GB</td>\n",
       "      <td>16777223 activities</td>\n",
       "      <td>6 entries</td>\n",
       "      <td>17 entries</td>\n",
       "      <td>0 B</td>\n",
       "      <td>0 B</td>\n",
       "      <td>192</td>\n",
       "      <td>256</td>\n",
       "    </tr>\n",
       "    <tr>\n",
       "      <th>4</th>\n",
       "      <td>0.140041 seconds</td>\n",
       "      <td>6142.734265 seconds</td>\n",
       "      <td>6142.874401 seconds</td>\n",
       "      <td>704.628 ms</td>\n",
       "      <td>1.06934 GB</td>\n",
       "      <td>1.06934 GB</td>\n",
       "      <td>0 faults</td>\n",
       "      <td>0 faults</td>\n",
       "      <td>0 blocks</td>\n",
       "      <td>0 blocks</td>\n",
       "      <td>758.264 MB</td>\n",
       "      <td>758.264 MB</td>\n",
       "      <td>8388615 activities</td>\n",
       "      <td>6 entries</td>\n",
       "      <td>17 entries</td>\n",
       "      <td>0 B</td>\n",
       "      <td>0 B</td>\n",
       "      <td>64</td>\n",
       "      <td>128</td>\n",
       "    </tr>\n",
       "    <tr>\n",
       "      <th>...</th>\n",
       "      <td>...</td>\n",
       "      <td>...</td>\n",
       "      <td>...</td>\n",
       "      <td>...</td>\n",
       "      <td>...</td>\n",
       "      <td>...</td>\n",
       "      <td>...</td>\n",
       "      <td>...</td>\n",
       "      <td>...</td>\n",
       "      <td>...</td>\n",
       "      <td>...</td>\n",
       "      <td>...</td>\n",
       "      <td>...</td>\n",
       "      <td>...</td>\n",
       "      <td>...</td>\n",
       "      <td>...</td>\n",
       "      <td>...</td>\n",
       "      <td>...</td>\n",
       "      <td>...</td>\n",
       "    </tr>\n",
       "    <tr>\n",
       "      <th>59</th>\n",
       "      <td>0.140016 seconds</td>\n",
       "      <td>4592.194714 seconds</td>\n",
       "      <td>4592.334816 seconds</td>\n",
       "      <td>528.468 ms</td>\n",
       "      <td>823.616 MB</td>\n",
       "      <td>823.616 MB</td>\n",
       "      <td>0 faults</td>\n",
       "      <td>0 faults</td>\n",
       "      <td>0 blocks</td>\n",
       "      <td>0 blocks</td>\n",
       "      <td>573.715 MB</td>\n",
       "      <td>573.715 MB</td>\n",
       "      <td>6291463 activities</td>\n",
       "      <td>6 entries</td>\n",
       "      <td>17 entries</td>\n",
       "      <td>0 B</td>\n",
       "      <td>0 B</td>\n",
       "      <td>128</td>\n",
       "      <td>96</td>\n",
       "    </tr>\n",
       "    <tr>\n",
       "      <th>60</th>\n",
       "      <td>0.137907 seconds</td>\n",
       "      <td>1505.909272 seconds</td>\n",
       "      <td>1506.047274 seconds</td>\n",
       "      <td>176.146 ms</td>\n",
       "      <td>332.472 MB</td>\n",
       "      <td>332.472 MB</td>\n",
       "      <td>0 faults</td>\n",
       "      <td>0 faults</td>\n",
       "      <td>0 blocks</td>\n",
       "      <td>0 blocks</td>\n",
       "      <td>204.617 MB</td>\n",
       "      <td>204.617 MB</td>\n",
       "      <td>2097159 activities</td>\n",
       "      <td>6 entries</td>\n",
       "      <td>17 entries</td>\n",
       "      <td>0 B</td>\n",
       "      <td>0 B</td>\n",
       "      <td>256</td>\n",
       "      <td>32</td>\n",
       "    </tr>\n",
       "    <tr>\n",
       "      <th>61</th>\n",
       "      <td>0.140278 seconds</td>\n",
       "      <td>3033.813953 seconds</td>\n",
       "      <td>3033.954318 seconds</td>\n",
       "      <td>352.307 ms</td>\n",
       "      <td>578 MB</td>\n",
       "      <td>578 MB</td>\n",
       "      <td>0 faults</td>\n",
       "      <td>0 faults</td>\n",
       "      <td>0 blocks</td>\n",
       "      <td>0 blocks</td>\n",
       "      <td>389.166 MB</td>\n",
       "      <td>389.166 MB</td>\n",
       "      <td>4194311 activities</td>\n",
       "      <td>6 entries</td>\n",
       "      <td>17 entries</td>\n",
       "      <td>0 B</td>\n",
       "      <td>0 B</td>\n",
       "      <td>160</td>\n",
       "      <td>64</td>\n",
       "    </tr>\n",
       "    <tr>\n",
       "      <th>62</th>\n",
       "      <td>0.139661 seconds</td>\n",
       "      <td>1489.865866 seconds</td>\n",
       "      <td>1490.005624 seconds</td>\n",
       "      <td>176.146 ms</td>\n",
       "      <td>332.072 MB</td>\n",
       "      <td>332.072 MB</td>\n",
       "      <td>0 faults</td>\n",
       "      <td>0 faults</td>\n",
       "      <td>0 blocks</td>\n",
       "      <td>0 blocks</td>\n",
       "      <td>204.617 MB</td>\n",
       "      <td>204.617 MB</td>\n",
       "      <td>2097159 activities</td>\n",
       "      <td>6 entries</td>\n",
       "      <td>17 entries</td>\n",
       "      <td>0 B</td>\n",
       "      <td>0 B</td>\n",
       "      <td>64</td>\n",
       "      <td>32</td>\n",
       "    </tr>\n",
       "    <tr>\n",
       "      <th>63</th>\n",
       "      <td>0.140952 seconds</td>\n",
       "      <td>1485.778080 seconds</td>\n",
       "      <td>1485.919129 seconds</td>\n",
       "      <td>176.146 ms</td>\n",
       "      <td>332.044 MB</td>\n",
       "      <td>332.044 MB</td>\n",
       "      <td>0 faults</td>\n",
       "      <td>0 faults</td>\n",
       "      <td>0 blocks</td>\n",
       "      <td>0 blocks</td>\n",
       "      <td>204.617 MB</td>\n",
       "      <td>204.617 MB</td>\n",
       "      <td>2097159 activities</td>\n",
       "      <td>6 entries</td>\n",
       "      <td>17 entries</td>\n",
       "      <td>0 B</td>\n",
       "      <td>0 B</td>\n",
       "      <td>224</td>\n",
       "      <td>32</td>\n",
       "    </tr>\n",
       "  </tbody>\n",
       "</table>\n",
       "<p>64 rows × 19 columns</p>\n",
       "</div>"
      ],
      "text/plain": [
       "          Build time       Simulation time            Total time  \\\n",
       "0   0.139350 seconds   1480.297149 seconds   1480.436590 seconds   \n",
       "1   0.139659 seconds   4564.176592 seconds   4564.316342 seconds   \n",
       "2   0.139653 seconds   9421.627609 seconds   9421.767353 seconds   \n",
       "3   0.140271 seconds  12475.424247 seconds  12475.564607 seconds   \n",
       "4   0.140041 seconds   6142.734265 seconds   6142.874401 seconds   \n",
       "..               ...                   ...                   ...   \n",
       "59  0.140016 seconds   4592.194714 seconds   4592.334816 seconds   \n",
       "60  0.137907 seconds   1505.909272 seconds   1506.047274 seconds   \n",
       "61  0.140278 seconds   3033.813953 seconds   3033.954318 seconds   \n",
       "62  0.139661 seconds   1489.865866 seconds   1490.005624 seconds   \n",
       "63  0.140952 seconds   1485.778080 seconds   1485.919129 seconds   \n",
       "\n",
       "   Simulated time Max Resident Set Size Approx. Global Max RSS Size  \\\n",
       "0      176.146 ms             332.12 MB                   332.12 MB   \n",
       "1      528.468 ms             823.58 MB                   823.58 MB   \n",
       "2       1.05695 s            1.56096 GB                  1.56096 GB   \n",
       "3       1.40927 s            2.05203 GB                  2.05203 GB   \n",
       "4      704.628 ms            1.06934 GB                  1.06934 GB   \n",
       "..            ...                   ...                         ...   \n",
       "59     528.468 ms            823.616 MB                  823.616 MB   \n",
       "60     176.146 ms            332.472 MB                  332.472 MB   \n",
       "61     352.307 ms                578 MB                      578 MB   \n",
       "62     176.146 ms            332.072 MB                  332.072 MB   \n",
       "63     176.146 ms            332.044 MB                  332.044 MB   \n",
       "\n",
       "   Max Local Page Faults Global Page Faults Max Output Blocks  \\\n",
       "0               0 faults           0 faults          0 blocks   \n",
       "1               0 faults           0 faults          0 blocks   \n",
       "2               0 faults           0 faults          0 blocks   \n",
       "3               0 faults           0 faults          0 blocks   \n",
       "4               0 faults           0 faults          0 blocks   \n",
       "..                   ...                ...               ...   \n",
       "59              0 faults           0 faults          0 blocks   \n",
       "60              0 faults           0 faults          0 blocks   \n",
       "61              0 faults           0 faults          0 blocks   \n",
       "62              0 faults           0 faults          0 blocks   \n",
       "63              0 faults           0 faults          0 blocks   \n",
       "\n",
       "   Max Input Blocks Max mempool usage Global mempool usage  \\\n",
       "0          0 blocks        204.617 MB           204.617 MB   \n",
       "1          0 blocks        573.715 MB           573.715 MB   \n",
       "2          0 blocks        1.12736 GB           1.12736 GB   \n",
       "3          0 blocks        1.49646 GB           1.49646 GB   \n",
       "4          0 blocks        758.264 MB           758.264 MB   \n",
       "..              ...               ...                  ...   \n",
       "59         0 blocks        573.715 MB           573.715 MB   \n",
       "60         0 blocks        204.617 MB           204.617 MB   \n",
       "61         0 blocks        389.166 MB           389.166 MB   \n",
       "62         0 blocks        204.617 MB           204.617 MB   \n",
       "63         0 blocks        204.617 MB           204.617 MB   \n",
       "\n",
       "   Global active activities Current global TimeVortex depth  \\\n",
       "0        2097159 activities                       6 entries   \n",
       "1        6291463 activities                       6 entries   \n",
       "2       12582919 activities                       6 entries   \n",
       "3       16777223 activities                       6 entries   \n",
       "4        8388615 activities                       6 entries   \n",
       "..                      ...                             ...   \n",
       "59       6291463 activities                       6 entries   \n",
       "60       2097159 activities                       6 entries   \n",
       "61       4194311 activities                       6 entries   \n",
       "62       2097159 activities                       6 entries   \n",
       "63       2097159 activities                       6 entries   \n",
       "\n",
       "   Max TimeVortex depth Max Sync data size Global Sync data size memory_mb  \\\n",
       "0            17 entries                0 B                   0 B        96   \n",
       "1            17 entries                0 B                   0 B       160   \n",
       "2            17 entries                0 B                   0 B        64   \n",
       "3            17 entries                0 B                   0 B       192   \n",
       "4            17 entries                0 B                   0 B        64   \n",
       "..                  ...                ...                   ...       ...   \n",
       "59           17 entries                0 B                   0 B       128   \n",
       "60           17 entries                0 B                   0 B       256   \n",
       "61           17 entries                0 B                   0 B       160   \n",
       "62           17 entries                0 B                   0 B        64   \n",
       "63           17 entries                0 B                   0 B       224   \n",
       "\n",
       "   copy_mb  \n",
       "0       32  \n",
       "1       96  \n",
       "2      192  \n",
       "3      256  \n",
       "4      128  \n",
       "..     ...  \n",
       "59      96  \n",
       "60      32  \n",
       "61      64  \n",
       "62      32  \n",
       "63      32  \n",
       "\n",
       "[64 rows x 19 columns]"
      ]
     },
     "execution_count": 60,
     "metadata": {},
     "output_type": "execute_result"
    }
   ],
   "source": [
    "df"
   ]
  },
  {
   "cell_type": "code",
   "execution_count": 63,
   "metadata": {},
   "outputs": [],
   "source": [
    "import humanfriendly"
   ]
  },
  {
   "cell_type": "code",
   "execution_count": 64,
   "metadata": {},
   "outputs": [
    {
     "data": {
      "text/plain": [
       "0      332120000\n",
       "1      823580000\n",
       "2     1560960000\n",
       "3     2052029999\n",
       "4     1069340000\n",
       "         ...    \n",
       "59     823616000\n",
       "60     332472000\n",
       "61     578000000\n",
       "62     332072000\n",
       "63     332044000\n",
       "Name: Max Resident Set Size, Length: 64, dtype: int64"
      ]
     },
     "execution_count": 64,
     "metadata": {},
     "output_type": "execute_result"
    }
   ],
   "source": [
    "df[\"Max Resident Set Size\"] = list(map(humanfriendly.parse_size, df[\"Max Resident Set Size\"]))\n",
    "df[\"Max Resident Set Size\"]"
   ]
  },
  {
   "cell_type": "code",
   "execution_count": 65,
   "metadata": {},
   "outputs": [],
   "source": [
    "import plotly"
   ]
  },
  {
   "cell_type": "code",
   "execution_count": 66,
   "metadata": {},
   "outputs": [
    {
     "data": {
      "text/html": [
       "        <script type=\"text/javascript\">\n",
       "        window.PlotlyConfig = {MathJaxConfig: 'local'};\n",
       "        if (window.MathJax) {MathJax.Hub.Config({SVG: {font: \"STIX-Web\"}});}\n",
       "        if (typeof require !== 'undefined') {\n",
       "        require.undef(\"plotly\");\n",
       "        requirejs.config({\n",
       "            paths: {\n",
       "                'plotly': ['https://cdn.plot.ly/plotly-latest.min']\n",
       "            }\n",
       "        });\n",
       "        require(['plotly'], function(Plotly) {\n",
       "            window._Plotly = Plotly;\n",
       "        });\n",
       "        }\n",
       "        </script>\n",
       "        "
      ]
     },
     "metadata": {},
     "output_type": "display_data"
    }
   ],
   "source": [
    "plotly.offline.init_notebook_mode(connected=True)"
   ]
  },
  {
   "cell_type": "code",
   "execution_count": 67,
   "metadata": {},
   "outputs": [],
   "source": [
    "import plotly"
   ]
  },
  {
   "cell_type": "code",
   "execution_count": 68,
   "metadata": {},
   "outputs": [
    {
     "data": {
      "text/html": [
       "<div>\n",
       "<style scoped>\n",
       "    .dataframe tbody tr th:only-of-type {\n",
       "        vertical-align: middle;\n",
       "    }\n",
       "\n",
       "    .dataframe tbody tr th {\n",
       "        vertical-align: top;\n",
       "    }\n",
       "\n",
       "    .dataframe thead th {\n",
       "        text-align: right;\n",
       "    }\n",
       "</style>\n",
       "<table border=\"1\" class=\"dataframe\">\n",
       "  <thead>\n",
       "    <tr style=\"text-align: right;\">\n",
       "      <th></th>\n",
       "      <th>Build time</th>\n",
       "      <th>Simulation time</th>\n",
       "      <th>Total time</th>\n",
       "      <th>Simulated time</th>\n",
       "      <th>Max Resident Set Size</th>\n",
       "      <th>Approx. Global Max RSS Size</th>\n",
       "      <th>Max Local Page Faults</th>\n",
       "      <th>Global Page Faults</th>\n",
       "      <th>Max Output Blocks</th>\n",
       "      <th>Max Input Blocks</th>\n",
       "      <th>Max mempool usage</th>\n",
       "      <th>Global mempool usage</th>\n",
       "      <th>Global active activities</th>\n",
       "      <th>Current global TimeVortex depth</th>\n",
       "      <th>Max TimeVortex depth</th>\n",
       "      <th>Max Sync data size</th>\n",
       "      <th>Global Sync data size</th>\n",
       "      <th>memory_mb</th>\n",
       "      <th>copy_mb</th>\n",
       "    </tr>\n",
       "  </thead>\n",
       "  <tbody>\n",
       "    <tr>\n",
       "      <th>43</th>\n",
       "      <td>0.139696 seconds</td>\n",
       "      <td>6109.340784 seconds</td>\n",
       "      <td>6109.480570 seconds</td>\n",
       "      <td>704.628 ms</td>\n",
       "      <td>1069340000</td>\n",
       "      <td>1.06934 GB</td>\n",
       "      <td>0 faults</td>\n",
       "      <td>0 faults</td>\n",
       "      <td>0 blocks</td>\n",
       "      <td>0 blocks</td>\n",
       "      <td>758.264 MB</td>\n",
       "      <td>758.264 MB</td>\n",
       "      <td>8388615 activities</td>\n",
       "      <td>6 entries</td>\n",
       "      <td>17 entries</td>\n",
       "      <td>0 B</td>\n",
       "      <td>0 B</td>\n",
       "      <td>128</td>\n",
       "      <td>128</td>\n",
       "    </tr>\n",
       "    <tr>\n",
       "      <th>36</th>\n",
       "      <td>0.138555 seconds</td>\n",
       "      <td>7776.694341 seconds</td>\n",
       "      <td>7776.832989 seconds</td>\n",
       "      <td>880.789 ms</td>\n",
       "      <td>1315240000</td>\n",
       "      <td>1.31524 GB</td>\n",
       "      <td>0 faults</td>\n",
       "      <td>0 faults</td>\n",
       "      <td>0 blocks</td>\n",
       "      <td>0 blocks</td>\n",
       "      <td>942.813 MB</td>\n",
       "      <td>942.813 MB</td>\n",
       "      <td>10485767 activities</td>\n",
       "      <td>6 entries</td>\n",
       "      <td>17 entries</td>\n",
       "      <td>0 B</td>\n",
       "      <td>0 B</td>\n",
       "      <td>128</td>\n",
       "      <td>160</td>\n",
       "    </tr>\n",
       "    <tr>\n",
       "      <th>39</th>\n",
       "      <td>0.138884 seconds</td>\n",
       "      <td>9289.771804 seconds</td>\n",
       "      <td>9289.910778 seconds</td>\n",
       "      <td>1.05695 s</td>\n",
       "      <td>1560910000</td>\n",
       "      <td>1.56091 GB</td>\n",
       "      <td>0 faults</td>\n",
       "      <td>0 faults</td>\n",
       "      <td>0 blocks</td>\n",
       "      <td>0 blocks</td>\n",
       "      <td>1.12736 GB</td>\n",
       "      <td>1.12736 GB</td>\n",
       "      <td>12582919 activities</td>\n",
       "      <td>6 entries</td>\n",
       "      <td>17 entries</td>\n",
       "      <td>0 B</td>\n",
       "      <td>0 B</td>\n",
       "      <td>128</td>\n",
       "      <td>192</td>\n",
       "    </tr>\n",
       "    <tr>\n",
       "      <th>57</th>\n",
       "      <td>0.137979 seconds</td>\n",
       "      <td>10878.316899 seconds</td>\n",
       "      <td>10878.454963 seconds</td>\n",
       "      <td>1.23311 s</td>\n",
       "      <td>1806510000</td>\n",
       "      <td>1.80651 GB</td>\n",
       "      <td>0 faults</td>\n",
       "      <td>0 faults</td>\n",
       "      <td>0 blocks</td>\n",
       "      <td>0 blocks</td>\n",
       "      <td>1.31191 GB</td>\n",
       "      <td>1.31191 GB</td>\n",
       "      <td>14680071 activities</td>\n",
       "      <td>6 entries</td>\n",
       "      <td>17 entries</td>\n",
       "      <td>0 B</td>\n",
       "      <td>0 B</td>\n",
       "      <td>128</td>\n",
       "      <td>224</td>\n",
       "    </tr>\n",
       "    <tr>\n",
       "      <th>45</th>\n",
       "      <td>0.138264 seconds</td>\n",
       "      <td>12513.001766 seconds</td>\n",
       "      <td>12513.140117 seconds</td>\n",
       "      <td>1.40927 s</td>\n",
       "      <td>2052280000</td>\n",
       "      <td>2.05228 GB</td>\n",
       "      <td>0 faults</td>\n",
       "      <td>0 faults</td>\n",
       "      <td>0 blocks</td>\n",
       "      <td>0 blocks</td>\n",
       "      <td>1.49646 GB</td>\n",
       "      <td>1.49646 GB</td>\n",
       "      <td>16777223 activities</td>\n",
       "      <td>6 entries</td>\n",
       "      <td>17 entries</td>\n",
       "      <td>0 B</td>\n",
       "      <td>0 B</td>\n",
       "      <td>128</td>\n",
       "      <td>256</td>\n",
       "    </tr>\n",
       "    <tr>\n",
       "      <th>...</th>\n",
       "      <td>...</td>\n",
       "      <td>...</td>\n",
       "      <td>...</td>\n",
       "      <td>...</td>\n",
       "      <td>...</td>\n",
       "      <td>...</td>\n",
       "      <td>...</td>\n",
       "      <td>...</td>\n",
       "      <td>...</td>\n",
       "      <td>...</td>\n",
       "      <td>...</td>\n",
       "      <td>...</td>\n",
       "      <td>...</td>\n",
       "      <td>...</td>\n",
       "      <td>...</td>\n",
       "      <td>...</td>\n",
       "      <td>...</td>\n",
       "      <td>...</td>\n",
       "      <td>...</td>\n",
       "    </tr>\n",
       "    <tr>\n",
       "      <th>55</th>\n",
       "      <td>0.139826 seconds</td>\n",
       "      <td>11080.557749 seconds</td>\n",
       "      <td>11080.697664 seconds</td>\n",
       "      <td>1.23311 s</td>\n",
       "      <td>1807010000</td>\n",
       "      <td>1.80701 GB</td>\n",
       "      <td>0 faults</td>\n",
       "      <td>0 faults</td>\n",
       "      <td>0 blocks</td>\n",
       "      <td>0 blocks</td>\n",
       "      <td>1.31191 GB</td>\n",
       "      <td>1.31191 GB</td>\n",
       "      <td>14680071 activities</td>\n",
       "      <td>6 entries</td>\n",
       "      <td>17 entries</td>\n",
       "      <td>0 B</td>\n",
       "      <td>0 B</td>\n",
       "      <td>96</td>\n",
       "      <td>224</td>\n",
       "    </tr>\n",
       "    <tr>\n",
       "      <th>9</th>\n",
       "      <td>0.140440 seconds</td>\n",
       "      <td>12543.931682 seconds</td>\n",
       "      <td>12544.072209 seconds</td>\n",
       "      <td>1.40927 s</td>\n",
       "      <td>2052290000</td>\n",
       "      <td>2.05229 GB</td>\n",
       "      <td>0 faults</td>\n",
       "      <td>0 faults</td>\n",
       "      <td>0 blocks</td>\n",
       "      <td>0 blocks</td>\n",
       "      <td>1.49646 GB</td>\n",
       "      <td>1.49646 GB</td>\n",
       "      <td>16777223 activities</td>\n",
       "      <td>6 entries</td>\n",
       "      <td>17 entries</td>\n",
       "      <td>0 B</td>\n",
       "      <td>0 B</td>\n",
       "      <td>96</td>\n",
       "      <td>256</td>\n",
       "    </tr>\n",
       "    <tr>\n",
       "      <th>0</th>\n",
       "      <td>0.139350 seconds</td>\n",
       "      <td>1480.297149 seconds</td>\n",
       "      <td>1480.436590 seconds</td>\n",
       "      <td>176.146 ms</td>\n",
       "      <td>332120000</td>\n",
       "      <td>332.12 MB</td>\n",
       "      <td>0 faults</td>\n",
       "      <td>0 faults</td>\n",
       "      <td>0 blocks</td>\n",
       "      <td>0 blocks</td>\n",
       "      <td>204.617 MB</td>\n",
       "      <td>204.617 MB</td>\n",
       "      <td>2097159 activities</td>\n",
       "      <td>6 entries</td>\n",
       "      <td>17 entries</td>\n",
       "      <td>0 B</td>\n",
       "      <td>0 B</td>\n",
       "      <td>96</td>\n",
       "      <td>32</td>\n",
       "    </tr>\n",
       "    <tr>\n",
       "      <th>15</th>\n",
       "      <td>0.139974 seconds</td>\n",
       "      <td>3034.106463 seconds</td>\n",
       "      <td>3034.246526 seconds</td>\n",
       "      <td>352.307 ms</td>\n",
       "      <td>578056000</td>\n",
       "      <td>578.056 MB</td>\n",
       "      <td>0 faults</td>\n",
       "      <td>0 faults</td>\n",
       "      <td>0 blocks</td>\n",
       "      <td>0 blocks</td>\n",
       "      <td>389.166 MB</td>\n",
       "      <td>389.166 MB</td>\n",
       "      <td>4194311 activities</td>\n",
       "      <td>6 entries</td>\n",
       "      <td>17 entries</td>\n",
       "      <td>0 B</td>\n",
       "      <td>0 B</td>\n",
       "      <td>96</td>\n",
       "      <td>64</td>\n",
       "    </tr>\n",
       "    <tr>\n",
       "      <th>46</th>\n",
       "      <td>0.139941 seconds</td>\n",
       "      <td>4615.339891 seconds</td>\n",
       "      <td>4615.479918 seconds</td>\n",
       "      <td>528.468 ms</td>\n",
       "      <td>823852000</td>\n",
       "      <td>823.852 MB</td>\n",
       "      <td>0 faults</td>\n",
       "      <td>0 faults</td>\n",
       "      <td>0 blocks</td>\n",
       "      <td>0 blocks</td>\n",
       "      <td>573.715 MB</td>\n",
       "      <td>573.715 MB</td>\n",
       "      <td>6291463 activities</td>\n",
       "      <td>6 entries</td>\n",
       "      <td>17 entries</td>\n",
       "      <td>0 B</td>\n",
       "      <td>0 B</td>\n",
       "      <td>96</td>\n",
       "      <td>96</td>\n",
       "    </tr>\n",
       "  </tbody>\n",
       "</table>\n",
       "<p>64 rows × 19 columns</p>\n",
       "</div>"
      ],
      "text/plain": [
       "          Build time       Simulation time            Total time  \\\n",
       "43  0.139696 seconds   6109.340784 seconds   6109.480570 seconds   \n",
       "36  0.138555 seconds   7776.694341 seconds   7776.832989 seconds   \n",
       "39  0.138884 seconds   9289.771804 seconds   9289.910778 seconds   \n",
       "57  0.137979 seconds  10878.316899 seconds  10878.454963 seconds   \n",
       "45  0.138264 seconds  12513.001766 seconds  12513.140117 seconds   \n",
       "..               ...                   ...                   ...   \n",
       "55  0.139826 seconds  11080.557749 seconds  11080.697664 seconds   \n",
       "9   0.140440 seconds  12543.931682 seconds  12544.072209 seconds   \n",
       "0   0.139350 seconds   1480.297149 seconds   1480.436590 seconds   \n",
       "15  0.139974 seconds   3034.106463 seconds   3034.246526 seconds   \n",
       "46  0.139941 seconds   4615.339891 seconds   4615.479918 seconds   \n",
       "\n",
       "   Simulated time  Max Resident Set Size Approx. Global Max RSS Size  \\\n",
       "43     704.628 ms             1069340000                  1.06934 GB   \n",
       "36     880.789 ms             1315240000                  1.31524 GB   \n",
       "39      1.05695 s             1560910000                  1.56091 GB   \n",
       "57      1.23311 s             1806510000                  1.80651 GB   \n",
       "45      1.40927 s             2052280000                  2.05228 GB   \n",
       "..            ...                    ...                         ...   \n",
       "55      1.23311 s             1807010000                  1.80701 GB   \n",
       "9       1.40927 s             2052290000                  2.05229 GB   \n",
       "0      176.146 ms              332120000                   332.12 MB   \n",
       "15     352.307 ms              578056000                  578.056 MB   \n",
       "46     528.468 ms              823852000                  823.852 MB   \n",
       "\n",
       "   Max Local Page Faults Global Page Faults Max Output Blocks  \\\n",
       "43              0 faults           0 faults          0 blocks   \n",
       "36              0 faults           0 faults          0 blocks   \n",
       "39              0 faults           0 faults          0 blocks   \n",
       "57              0 faults           0 faults          0 blocks   \n",
       "45              0 faults           0 faults          0 blocks   \n",
       "..                   ...                ...               ...   \n",
       "55              0 faults           0 faults          0 blocks   \n",
       "9               0 faults           0 faults          0 blocks   \n",
       "0               0 faults           0 faults          0 blocks   \n",
       "15              0 faults           0 faults          0 blocks   \n",
       "46              0 faults           0 faults          0 blocks   \n",
       "\n",
       "   Max Input Blocks Max mempool usage Global mempool usage  \\\n",
       "43         0 blocks        758.264 MB           758.264 MB   \n",
       "36         0 blocks        942.813 MB           942.813 MB   \n",
       "39         0 blocks        1.12736 GB           1.12736 GB   \n",
       "57         0 blocks        1.31191 GB           1.31191 GB   \n",
       "45         0 blocks        1.49646 GB           1.49646 GB   \n",
       "..              ...               ...                  ...   \n",
       "55         0 blocks        1.31191 GB           1.31191 GB   \n",
       "9          0 blocks        1.49646 GB           1.49646 GB   \n",
       "0          0 blocks        204.617 MB           204.617 MB   \n",
       "15         0 blocks        389.166 MB           389.166 MB   \n",
       "46         0 blocks        573.715 MB           573.715 MB   \n",
       "\n",
       "   Global active activities Current global TimeVortex depth  \\\n",
       "43       8388615 activities                       6 entries   \n",
       "36      10485767 activities                       6 entries   \n",
       "39      12582919 activities                       6 entries   \n",
       "57      14680071 activities                       6 entries   \n",
       "45      16777223 activities                       6 entries   \n",
       "..                      ...                             ...   \n",
       "55      14680071 activities                       6 entries   \n",
       "9       16777223 activities                       6 entries   \n",
       "0        2097159 activities                       6 entries   \n",
       "15       4194311 activities                       6 entries   \n",
       "46       6291463 activities                       6 entries   \n",
       "\n",
       "   Max TimeVortex depth Max Sync data size Global Sync data size memory_mb  \\\n",
       "43           17 entries                0 B                   0 B       128   \n",
       "36           17 entries                0 B                   0 B       128   \n",
       "39           17 entries                0 B                   0 B       128   \n",
       "57           17 entries                0 B                   0 B       128   \n",
       "45           17 entries                0 B                   0 B       128   \n",
       "..                  ...                ...                   ...       ...   \n",
       "55           17 entries                0 B                   0 B        96   \n",
       "9            17 entries                0 B                   0 B        96   \n",
       "0            17 entries                0 B                   0 B        96   \n",
       "15           17 entries                0 B                   0 B        96   \n",
       "46           17 entries                0 B                   0 B        96   \n",
       "\n",
       "   copy_mb  \n",
       "43     128  \n",
       "36     160  \n",
       "39     192  \n",
       "57     224  \n",
       "45     256  \n",
       "..     ...  \n",
       "55     224  \n",
       "9      256  \n",
       "0       32  \n",
       "15      64  \n",
       "46      96  \n",
       "\n",
       "[64 rows x 19 columns]"
      ]
     },
     "execution_count": 68,
     "metadata": {},
     "output_type": "execute_result"
    }
   ],
   "source": [
    "df.sort_values([\"memory_mb\", \"copy_mb\"])"
   ]
  },
  {
   "cell_type": "code",
   "execution_count": null,
   "metadata": {},
   "outputs": [],
   "source": []
  },
  {
   "cell_type": "code",
   "execution_count": 70,
   "metadata": {},
   "outputs": [],
   "source": [
    "df[\"Simulation time\"] = pd.to_timedelta(df[\"Simulation time\"])"
   ]
  },
  {
   "cell_type": "code",
   "execution_count": 72,
   "metadata": {},
   "outputs": [
    {
     "data": {
      "application/vnd.plotly.v1+json": {
       "config": {
        "linkText": "Export to plot.ly",
        "plotlyServerURL": "https://plot.ly",
        "showLink": false
       },
       "data": [
        {
         "type": "scatter3d",
         "x": [
          "96",
          "160",
          "64",
          "192",
          "64",
          "256",
          "160",
          "192",
          "160",
          "96",
          "32",
          "256",
          "96",
          "160",
          "32",
          "96",
          "256",
          "192",
          "224",
          "64",
          "32",
          "192",
          "160",
          "128",
          "32",
          "224",
          "32",
          "256",
          "32",
          "192",
          "64",
          "256",
          "96",
          "64",
          "64",
          "224",
          "128",
          "256",
          "224",
          "128",
          "224",
          "96",
          "160",
          "128",
          "192",
          "128",
          "96",
          "224",
          "32",
          "160",
          "192",
          "32",
          "64",
          "256",
          "128",
          "96",
          "224",
          "128",
          "192",
          "128",
          "256",
          "160",
          "64",
          "224"
         ],
         "y": [
          "32",
          "96",
          "192",
          "256",
          "128",
          "64",
          "160",
          "32",
          "224",
          "256",
          "32",
          "128",
          "160",
          "256",
          "64",
          "64",
          "160",
          "192",
          "64",
          "64",
          "96",
          "96",
          "128",
          "32",
          "192",
          "224",
          "128",
          "192",
          "160",
          "160",
          "256",
          "256",
          "128",
          "96",
          "224",
          "192",
          "160",
          "96",
          "256",
          "192",
          "96",
          "192",
          "192",
          "128",
          "224",
          "256",
          "96",
          "160",
          "256",
          "32",
          "128",
          "224",
          "160",
          "224",
          "64",
          "224",
          "128",
          "224",
          "64",
          "96",
          "32",
          "64",
          "32",
          "32"
         ],
         "z": [
          1480297149000,
          4564176592000,
          9421627609000,
          12475424247000,
          6142734265000,
          3058759608000,
          7788634873000,
          1523184314000,
          11107313504000,
          12543931682000,
          1483205161000,
          6158203581000,
          7851529481000,
          12468462860000,
          3026318189000,
          3034106463000,
          7716321084000,
          9339243414000,
          3003365144000,
          3025097594000,
          4650051084000,
          4556682316000,
          6160122496000,
          1481934559000,
          9336372352000,
          11046193581000,
          6153780104000,
          9304335648000,
          7643445575000,
          7740966453000,
          12564120077000,
          12464819147000,
          6204769019000,
          4573541351000,
          10910893044000,
          9366113917000,
          7776694341000,
          4577840516000,
          12616425613000,
          9289771804000,
          4565147374000,
          9487116798000,
          9233295747000,
          6109340784000,
          11162736226000,
          12513001766000,
          4615339891000,
          7807054040000,
          12429799234000,
          1481598062000,
          6096735142000,
          10918626519000,
          7640876242000,
          10920673794000,
          3021386613000,
          11080557749000,
          6129371388000,
          10878316899000,
          2999275389000,
          4592194714000,
          1505909272000,
          3033813953000,
          1489865866000,
          1485778080000
         ]
        }
       ],
       "layout": {
        "autosize": true,
        "scene": {
         "aspectmode": "auto",
         "aspectratio": {
          "x": 1,
          "y": 1,
          "z": 1
         },
         "camera": {
          "center": {
           "x": 0,
           "y": 0,
           "z": 0
          },
          "eye": {
           "x": 1.121333922252295,
           "y": -1.7908455960111374,
           "z": 0.4722100020687815
          },
          "projection": {
           "type": "perspective"
          },
          "up": {
           "x": 0,
           "y": 0,
           "z": 1
          }
         }
        },
        "template": {
         "data": {
          "bar": [
           {
            "error_x": {
             "color": "#2a3f5f"
            },
            "error_y": {
             "color": "#2a3f5f"
            },
            "marker": {
             "line": {
              "color": "#E5ECF6",
              "width": 0.5
             }
            },
            "type": "bar"
           }
          ],
          "barpolar": [
           {
            "marker": {
             "line": {
              "color": "#E5ECF6",
              "width": 0.5
             }
            },
            "type": "barpolar"
           }
          ],
          "carpet": [
           {
            "aaxis": {
             "endlinecolor": "#2a3f5f",
             "gridcolor": "white",
             "linecolor": "white",
             "minorgridcolor": "white",
             "startlinecolor": "#2a3f5f"
            },
            "baxis": {
             "endlinecolor": "#2a3f5f",
             "gridcolor": "white",
             "linecolor": "white",
             "minorgridcolor": "white",
             "startlinecolor": "#2a3f5f"
            },
            "type": "carpet"
           }
          ],
          "choropleth": [
           {
            "colorbar": {
             "outlinewidth": 0,
             "ticks": ""
            },
            "type": "choropleth"
           }
          ],
          "contour": [
           {
            "colorbar": {
             "outlinewidth": 0,
             "ticks": ""
            },
            "colorscale": [
             [
              0,
              "#0d0887"
             ],
             [
              0.1111111111111111,
              "#46039f"
             ],
             [
              0.2222222222222222,
              "#7201a8"
             ],
             [
              0.3333333333333333,
              "#9c179e"
             ],
             [
              0.4444444444444444,
              "#bd3786"
             ],
             [
              0.5555555555555556,
              "#d8576b"
             ],
             [
              0.6666666666666666,
              "#ed7953"
             ],
             [
              0.7777777777777778,
              "#fb9f3a"
             ],
             [
              0.8888888888888888,
              "#fdca26"
             ],
             [
              1,
              "#f0f921"
             ]
            ],
            "type": "contour"
           }
          ],
          "contourcarpet": [
           {
            "colorbar": {
             "outlinewidth": 0,
             "ticks": ""
            },
            "type": "contourcarpet"
           }
          ],
          "heatmap": [
           {
            "colorbar": {
             "outlinewidth": 0,
             "ticks": ""
            },
            "colorscale": [
             [
              0,
              "#0d0887"
             ],
             [
              0.1111111111111111,
              "#46039f"
             ],
             [
              0.2222222222222222,
              "#7201a8"
             ],
             [
              0.3333333333333333,
              "#9c179e"
             ],
             [
              0.4444444444444444,
              "#bd3786"
             ],
             [
              0.5555555555555556,
              "#d8576b"
             ],
             [
              0.6666666666666666,
              "#ed7953"
             ],
             [
              0.7777777777777778,
              "#fb9f3a"
             ],
             [
              0.8888888888888888,
              "#fdca26"
             ],
             [
              1,
              "#f0f921"
             ]
            ],
            "type": "heatmap"
           }
          ],
          "heatmapgl": [
           {
            "colorbar": {
             "outlinewidth": 0,
             "ticks": ""
            },
            "colorscale": [
             [
              0,
              "#0d0887"
             ],
             [
              0.1111111111111111,
              "#46039f"
             ],
             [
              0.2222222222222222,
              "#7201a8"
             ],
             [
              0.3333333333333333,
              "#9c179e"
             ],
             [
              0.4444444444444444,
              "#bd3786"
             ],
             [
              0.5555555555555556,
              "#d8576b"
             ],
             [
              0.6666666666666666,
              "#ed7953"
             ],
             [
              0.7777777777777778,
              "#fb9f3a"
             ],
             [
              0.8888888888888888,
              "#fdca26"
             ],
             [
              1,
              "#f0f921"
             ]
            ],
            "type": "heatmapgl"
           }
          ],
          "histogram": [
           {
            "marker": {
             "colorbar": {
              "outlinewidth": 0,
              "ticks": ""
             }
            },
            "type": "histogram"
           }
          ],
          "histogram2d": [
           {
            "colorbar": {
             "outlinewidth": 0,
             "ticks": ""
            },
            "colorscale": [
             [
              0,
              "#0d0887"
             ],
             [
              0.1111111111111111,
              "#46039f"
             ],
             [
              0.2222222222222222,
              "#7201a8"
             ],
             [
              0.3333333333333333,
              "#9c179e"
             ],
             [
              0.4444444444444444,
              "#bd3786"
             ],
             [
              0.5555555555555556,
              "#d8576b"
             ],
             [
              0.6666666666666666,
              "#ed7953"
             ],
             [
              0.7777777777777778,
              "#fb9f3a"
             ],
             [
              0.8888888888888888,
              "#fdca26"
             ],
             [
              1,
              "#f0f921"
             ]
            ],
            "type": "histogram2d"
           }
          ],
          "histogram2dcontour": [
           {
            "colorbar": {
             "outlinewidth": 0,
             "ticks": ""
            },
            "colorscale": [
             [
              0,
              "#0d0887"
             ],
             [
              0.1111111111111111,
              "#46039f"
             ],
             [
              0.2222222222222222,
              "#7201a8"
             ],
             [
              0.3333333333333333,
              "#9c179e"
             ],
             [
              0.4444444444444444,
              "#bd3786"
             ],
             [
              0.5555555555555556,
              "#d8576b"
             ],
             [
              0.6666666666666666,
              "#ed7953"
             ],
             [
              0.7777777777777778,
              "#fb9f3a"
             ],
             [
              0.8888888888888888,
              "#fdca26"
             ],
             [
              1,
              "#f0f921"
             ]
            ],
            "type": "histogram2dcontour"
           }
          ],
          "mesh3d": [
           {
            "colorbar": {
             "outlinewidth": 0,
             "ticks": ""
            },
            "type": "mesh3d"
           }
          ],
          "parcoords": [
           {
            "line": {
             "colorbar": {
              "outlinewidth": 0,
              "ticks": ""
             }
            },
            "type": "parcoords"
           }
          ],
          "pie": [
           {
            "automargin": true,
            "type": "pie"
           }
          ],
          "scatter": [
           {
            "marker": {
             "colorbar": {
              "outlinewidth": 0,
              "ticks": ""
             }
            },
            "type": "scatter"
           }
          ],
          "scatter3d": [
           {
            "line": {
             "colorbar": {
              "outlinewidth": 0,
              "ticks": ""
             }
            },
            "marker": {
             "colorbar": {
              "outlinewidth": 0,
              "ticks": ""
             }
            },
            "type": "scatter3d"
           }
          ],
          "scattercarpet": [
           {
            "marker": {
             "colorbar": {
              "outlinewidth": 0,
              "ticks": ""
             }
            },
            "type": "scattercarpet"
           }
          ],
          "scattergeo": [
           {
            "marker": {
             "colorbar": {
              "outlinewidth": 0,
              "ticks": ""
             }
            },
            "type": "scattergeo"
           }
          ],
          "scattergl": [
           {
            "marker": {
             "colorbar": {
              "outlinewidth": 0,
              "ticks": ""
             }
            },
            "type": "scattergl"
           }
          ],
          "scattermapbox": [
           {
            "marker": {
             "colorbar": {
              "outlinewidth": 0,
              "ticks": ""
             }
            },
            "type": "scattermapbox"
           }
          ],
          "scatterpolar": [
           {
            "marker": {
             "colorbar": {
              "outlinewidth": 0,
              "ticks": ""
             }
            },
            "type": "scatterpolar"
           }
          ],
          "scatterpolargl": [
           {
            "marker": {
             "colorbar": {
              "outlinewidth": 0,
              "ticks": ""
             }
            },
            "type": "scatterpolargl"
           }
          ],
          "scatterternary": [
           {
            "marker": {
             "colorbar": {
              "outlinewidth": 0,
              "ticks": ""
             }
            },
            "type": "scatterternary"
           }
          ],
          "surface": [
           {
            "colorbar": {
             "outlinewidth": 0,
             "ticks": ""
            },
            "colorscale": [
             [
              0,
              "#0d0887"
             ],
             [
              0.1111111111111111,
              "#46039f"
             ],
             [
              0.2222222222222222,
              "#7201a8"
             ],
             [
              0.3333333333333333,
              "#9c179e"
             ],
             [
              0.4444444444444444,
              "#bd3786"
             ],
             [
              0.5555555555555556,
              "#d8576b"
             ],
             [
              0.6666666666666666,
              "#ed7953"
             ],
             [
              0.7777777777777778,
              "#fb9f3a"
             ],
             [
              0.8888888888888888,
              "#fdca26"
             ],
             [
              1,
              "#f0f921"
             ]
            ],
            "type": "surface"
           }
          ],
          "table": [
           {
            "cells": {
             "fill": {
              "color": "#EBF0F8"
             },
             "line": {
              "color": "white"
             }
            },
            "header": {
             "fill": {
              "color": "#C8D4E3"
             },
             "line": {
              "color": "white"
             }
            },
            "type": "table"
           }
          ]
         },
         "layout": {
          "annotationdefaults": {
           "arrowcolor": "#2a3f5f",
           "arrowhead": 0,
           "arrowwidth": 1
          },
          "coloraxis": {
           "colorbar": {
            "outlinewidth": 0,
            "ticks": ""
           }
          },
          "colorscale": {
           "diverging": [
            [
             0,
             "#8e0152"
            ],
            [
             0.1,
             "#c51b7d"
            ],
            [
             0.2,
             "#de77ae"
            ],
            [
             0.3,
             "#f1b6da"
            ],
            [
             0.4,
             "#fde0ef"
            ],
            [
             0.5,
             "#f7f7f7"
            ],
            [
             0.6,
             "#e6f5d0"
            ],
            [
             0.7,
             "#b8e186"
            ],
            [
             0.8,
             "#7fbc41"
            ],
            [
             0.9,
             "#4d9221"
            ],
            [
             1,
             "#276419"
            ]
           ],
           "sequential": [
            [
             0,
             "#0d0887"
            ],
            [
             0.1111111111111111,
             "#46039f"
            ],
            [
             0.2222222222222222,
             "#7201a8"
            ],
            [
             0.3333333333333333,
             "#9c179e"
            ],
            [
             0.4444444444444444,
             "#bd3786"
            ],
            [
             0.5555555555555556,
             "#d8576b"
            ],
            [
             0.6666666666666666,
             "#ed7953"
            ],
            [
             0.7777777777777778,
             "#fb9f3a"
            ],
            [
             0.8888888888888888,
             "#fdca26"
            ],
            [
             1,
             "#f0f921"
            ]
           ],
           "sequentialminus": [
            [
             0,
             "#0d0887"
            ],
            [
             0.1111111111111111,
             "#46039f"
            ],
            [
             0.2222222222222222,
             "#7201a8"
            ],
            [
             0.3333333333333333,
             "#9c179e"
            ],
            [
             0.4444444444444444,
             "#bd3786"
            ],
            [
             0.5555555555555556,
             "#d8576b"
            ],
            [
             0.6666666666666666,
             "#ed7953"
            ],
            [
             0.7777777777777778,
             "#fb9f3a"
            ],
            [
             0.8888888888888888,
             "#fdca26"
            ],
            [
             1,
             "#f0f921"
            ]
           ]
          },
          "colorway": [
           "#636efa",
           "#EF553B",
           "#00cc96",
           "#ab63fa",
           "#FFA15A",
           "#19d3f3",
           "#FF6692",
           "#B6E880",
           "#FF97FF",
           "#FECB52"
          ],
          "font": {
           "color": "#2a3f5f"
          },
          "geo": {
           "bgcolor": "white",
           "lakecolor": "white",
           "landcolor": "#E5ECF6",
           "showlakes": true,
           "showland": true,
           "subunitcolor": "white"
          },
          "hoverlabel": {
           "align": "left"
          },
          "hovermode": "closest",
          "mapbox": {
           "style": "light"
          },
          "paper_bgcolor": "white",
          "plot_bgcolor": "#E5ECF6",
          "polar": {
           "angularaxis": {
            "gridcolor": "white",
            "linecolor": "white",
            "ticks": ""
           },
           "bgcolor": "#E5ECF6",
           "radialaxis": {
            "gridcolor": "white",
            "linecolor": "white",
            "ticks": ""
           }
          },
          "scene": {
           "xaxis": {
            "backgroundcolor": "#E5ECF6",
            "gridcolor": "white",
            "gridwidth": 2,
            "linecolor": "white",
            "showbackground": true,
            "ticks": "",
            "zerolinecolor": "white"
           },
           "yaxis": {
            "backgroundcolor": "#E5ECF6",
            "gridcolor": "white",
            "gridwidth": 2,
            "linecolor": "white",
            "showbackground": true,
            "ticks": "",
            "zerolinecolor": "white"
           },
           "zaxis": {
            "backgroundcolor": "#E5ECF6",
            "gridcolor": "white",
            "gridwidth": 2,
            "linecolor": "white",
            "showbackground": true,
            "ticks": "",
            "zerolinecolor": "white"
           }
          },
          "shapedefaults": {
           "line": {
            "color": "#2a3f5f"
           }
          },
          "ternary": {
           "aaxis": {
            "gridcolor": "white",
            "linecolor": "white",
            "ticks": ""
           },
           "baxis": {
            "gridcolor": "white",
            "linecolor": "white",
            "ticks": ""
           },
           "bgcolor": "#E5ECF6",
           "caxis": {
            "gridcolor": "white",
            "linecolor": "white",
            "ticks": ""
           }
          },
          "title": {
           "x": 0.05
          },
          "xaxis": {
           "automargin": true,
           "gridcolor": "white",
           "linecolor": "white",
           "ticks": "",
           "title": {
            "standoff": 15
           },
           "zerolinecolor": "white",
           "zerolinewidth": 2
          },
          "yaxis": {
           "automargin": true,
           "gridcolor": "white",
           "linecolor": "white",
           "ticks": "",
           "title": {
            "standoff": 15
           },
           "zerolinecolor": "white",
           "zerolinewidth": 2
          }
         }
        }
       }
      },
      "image/png": "[encoded data removed]",
      "text/html": [
       "<div>                            <div id=\"6d2d21f1-5c36-465f-9409-cf2c0fe90623\" class=\"plotly-graph-div\" style=\"height:525px; width:100%;\"></div>            <script type=\"text/javascript\">                require([\"plotly\"], function(Plotly) {                    window.PLOTLYENV=window.PLOTLYENV || {};                                    if (document.getElementById(\"6d2d21f1-5c36-465f-9409-cf2c0fe90623\")) {                    Plotly.newPlot(                        \"6d2d21f1-5c36-465f-9409-cf2c0fe90623\",                        [{\"type\": \"scatter3d\", \"x\": [\"96\", \"160\", \"64\", \"192\", \"64\", \"256\", \"160\", \"192\", \"160\", \"96\", \"32\", \"256\", \"96\", \"160\", \"32\", \"96\", \"256\", \"192\", \"224\", \"64\", \"32\", \"192\", \"160\", \"128\", \"32\", \"224\", \"32\", \"256\", \"32\", \"192\", \"64\", \"256\", \"96\", \"64\", \"64\", \"224\", \"128\", \"256\", \"224\", \"128\", \"224\", \"96\", \"160\", \"128\", \"192\", \"128\", \"96\", \"224\", \"32\", \"160\", \"192\", \"32\", \"64\", \"256\", \"128\", \"96\", \"224\", \"128\", \"192\", \"128\", \"256\", \"160\", \"64\", \"224\"], \"y\": [\"32\", \"96\", \"192\", \"256\", \"128\", \"64\", \"160\", \"32\", \"224\", \"256\", \"32\", \"128\", \"160\", \"256\", \"64\", \"64\", \"160\", \"192\", \"64\", \"64\", \"96\", \"96\", \"128\", \"32\", \"192\", \"224\", \"128\", \"192\", \"160\", \"160\", \"256\", \"256\", \"128\", \"96\", \"224\", \"192\", \"160\", \"96\", \"256\", \"192\", \"96\", \"192\", \"192\", \"128\", \"224\", \"256\", \"96\", \"160\", \"256\", \"32\", \"128\", \"224\", \"160\", \"224\", \"64\", \"224\", \"128\", \"224\", \"64\", \"96\", \"32\", \"64\", \"32\", \"32\"], \"z\": [1480297149000, 4564176592000, 9421627609000, 12475424247000, 6142734265000, 3058759608000, 7788634873000, 1523184314000, 11107313504000, 12543931682000, 1483205161000, 6158203581000, 7851529481000, 12468462860000, 3026318189000, 3034106463000, 7716321084000, 9339243414000, 3003365144000, 3025097594000, 4650051084000, 4556682316000, 6160122496000, 1481934559000, 9336372352000, 11046193581000, 6153780104000, 9304335648000, 7643445575000, 7740966453000, 12564120077000, 12464819147000, 6204769019000, 4573541351000, 10910893044000, 9366113917000, 7776694341000, 4577840516000, 12616425613000, 9289771804000, 4565147374000, 9487116798000, 9233295747000, 6109340784000, 11162736226000, 12513001766000, 4615339891000, 7807054040000, 12429799234000, 1481598062000, 6096735142000, 10918626519000, 7640876242000, 10920673794000, 3021386613000, 11080557749000, 6129371388000, 10878316899000, 2999275389000, 4592194714000, 1505909272000, 3033813953000, 1489865866000, 1485778080000]}],                        {\"template\": {\"data\": {\"bar\": [{\"error_x\": {\"color\": \"#2a3f5f\"}, \"error_y\": {\"color\": \"#2a3f5f\"}, \"marker\": {\"line\": {\"color\": \"#E5ECF6\", \"width\": 0.5}}, \"type\": \"bar\"}], \"barpolar\": [{\"marker\": {\"line\": {\"color\": \"#E5ECF6\", \"width\": 0.5}}, \"type\": \"barpolar\"}], \"carpet\": [{\"aaxis\": {\"endlinecolor\": \"#2a3f5f\", \"gridcolor\": \"white\", \"linecolor\": \"white\", \"minorgridcolor\": \"white\", \"startlinecolor\": \"#2a3f5f\"}, \"baxis\": {\"endlinecolor\": \"#2a3f5f\", \"gridcolor\": \"white\", \"linecolor\": \"white\", \"minorgridcolor\": \"white\", \"startlinecolor\": \"#2a3f5f\"}, \"type\": \"carpet\"}], \"choropleth\": [{\"colorbar\": {\"outlinewidth\": 0, \"ticks\": \"\"}, \"type\": \"choropleth\"}], \"contour\": [{\"colorbar\": {\"outlinewidth\": 0, \"ticks\": \"\"}, \"colorscale\": [[0.0, \"#0d0887\"], [0.1111111111111111, \"#46039f\"], [0.2222222222222222, \"#7201a8\"], [0.3333333333333333, \"#9c179e\"], [0.4444444444444444, \"#bd3786\"], [0.5555555555555556, \"#d8576b\"], [0.6666666666666666, \"#ed7953\"], [0.7777777777777778, \"#fb9f3a\"], [0.8888888888888888, \"#fdca26\"], [1.0, \"#f0f921\"]], \"type\": \"contour\"}], \"contourcarpet\": [{\"colorbar\": {\"outlinewidth\": 0, \"ticks\": \"\"}, \"type\": \"contourcarpet\"}], \"heatmap\": [{\"colorbar\": {\"outlinewidth\": 0, \"ticks\": \"\"}, \"colorscale\": [[0.0, \"#0d0887\"], [0.1111111111111111, \"#46039f\"], [0.2222222222222222, \"#7201a8\"], [0.3333333333333333, \"#9c179e\"], [0.4444444444444444, \"#bd3786\"], [0.5555555555555556, \"#d8576b\"], [0.6666666666666666, \"#ed7953\"], [0.7777777777777778, \"#fb9f3a\"], [0.8888888888888888, \"#fdca26\"], [1.0, \"#f0f921\"]], \"type\": \"heatmap\"}], \"heatmapgl\": [{\"colorbar\": {\"outlinewidth\": 0, \"ticks\": \"\"}, \"colorscale\": [[0.0, \"#0d0887\"], [0.1111111111111111, \"#46039f\"], [0.2222222222222222, \"#7201a8\"], [0.3333333333333333, \"#9c179e\"], [0.4444444444444444, \"#bd3786\"], [0.5555555555555556, \"#d8576b\"], [0.6666666666666666, \"#ed7953\"], [0.7777777777777778, \"#fb9f3a\"], [0.8888888888888888, \"#fdca26\"], [1.0, \"#f0f921\"]], \"type\": \"heatmapgl\"}], \"histogram\": [{\"marker\": {\"colorbar\": {\"outlinewidth\": 0, \"ticks\": \"\"}}, \"type\": \"histogram\"}], \"histogram2d\": [{\"colorbar\": {\"outlinewidth\": 0, \"ticks\": \"\"}, \"colorscale\": [[0.0, \"#0d0887\"], [0.1111111111111111, \"#46039f\"], [0.2222222222222222, \"#7201a8\"], [0.3333333333333333, \"#9c179e\"], [0.4444444444444444, \"#bd3786\"], [0.5555555555555556, \"#d8576b\"], [0.6666666666666666, \"#ed7953\"], [0.7777777777777778, \"#fb9f3a\"], [0.8888888888888888, \"#fdca26\"], [1.0, \"#f0f921\"]], \"type\": \"histogram2d\"}], \"histogram2dcontour\": [{\"colorbar\": {\"outlinewidth\": 0, \"ticks\": \"\"}, \"colorscale\": [[0.0, \"#0d0887\"], [0.1111111111111111, \"#46039f\"], [0.2222222222222222, \"#7201a8\"], [0.3333333333333333, \"#9c179e\"], [0.4444444444444444, \"#bd3786\"], [0.5555555555555556, \"#d8576b\"], [0.6666666666666666, \"#ed7953\"], [0.7777777777777778, \"#fb9f3a\"], [0.8888888888888888, \"#fdca26\"], [1.0, \"#f0f921\"]], \"type\": \"histogram2dcontour\"}], \"mesh3d\": [{\"colorbar\": {\"outlinewidth\": 0, \"ticks\": \"\"}, \"type\": \"mesh3d\"}], \"parcoords\": [{\"line\": {\"colorbar\": {\"outlinewidth\": 0, \"ticks\": \"\"}}, \"type\": \"parcoords\"}], \"pie\": [{\"automargin\": true, \"type\": \"pie\"}], \"scatter\": [{\"marker\": {\"colorbar\": {\"outlinewidth\": 0, \"ticks\": \"\"}}, \"type\": \"scatter\"}], \"scatter3d\": [{\"line\": {\"colorbar\": {\"outlinewidth\": 0, \"ticks\": \"\"}}, \"marker\": {\"colorbar\": {\"outlinewidth\": 0, \"ticks\": \"\"}}, \"type\": \"scatter3d\"}], \"scattercarpet\": [{\"marker\": {\"colorbar\": {\"outlinewidth\": 0, \"ticks\": \"\"}}, \"type\": \"scattercarpet\"}], \"scattergeo\": [{\"marker\": {\"colorbar\": {\"outlinewidth\": 0, \"ticks\": \"\"}}, \"type\": \"scattergeo\"}], \"scattergl\": [{\"marker\": {\"colorbar\": {\"outlinewidth\": 0, \"ticks\": \"\"}}, \"type\": \"scattergl\"}], \"scattermapbox\": [{\"marker\": {\"colorbar\": {\"outlinewidth\": 0, \"ticks\": \"\"}}, \"type\": \"scattermapbox\"}], \"scatterpolar\": [{\"marker\": {\"colorbar\": {\"outlinewidth\": 0, \"ticks\": \"\"}}, \"type\": \"scatterpolar\"}], \"scatterpolargl\": [{\"marker\": {\"colorbar\": {\"outlinewidth\": 0, \"ticks\": \"\"}}, \"type\": \"scatterpolargl\"}], \"scatterternary\": [{\"marker\": {\"colorbar\": {\"outlinewidth\": 0, \"ticks\": \"\"}}, \"type\": \"scatterternary\"}], \"surface\": [{\"colorbar\": {\"outlinewidth\": 0, \"ticks\": \"\"}, \"colorscale\": [[0.0, \"#0d0887\"], [0.1111111111111111, \"#46039f\"], [0.2222222222222222, \"#7201a8\"], [0.3333333333333333, \"#9c179e\"], [0.4444444444444444, \"#bd3786\"], [0.5555555555555556, \"#d8576b\"], [0.6666666666666666, \"#ed7953\"], [0.7777777777777778, \"#fb9f3a\"], [0.8888888888888888, \"#fdca26\"], [1.0, \"#f0f921\"]], \"type\": \"surface\"}], \"table\": [{\"cells\": {\"fill\": {\"color\": \"#EBF0F8\"}, \"line\": {\"color\": \"white\"}}, \"header\": {\"fill\": {\"color\": \"#C8D4E3\"}, \"line\": {\"color\": \"white\"}}, \"type\": \"table\"}]}, \"layout\": {\"annotationdefaults\": {\"arrowcolor\": \"#2a3f5f\", \"arrowhead\": 0, \"arrowwidth\": 1}, \"coloraxis\": {\"colorbar\": {\"outlinewidth\": 0, \"ticks\": \"\"}}, \"colorscale\": {\"diverging\": [[0, \"#8e0152\"], [0.1, \"#c51b7d\"], [0.2, \"#de77ae\"], [0.3, \"#f1b6da\"], [0.4, \"#fde0ef\"], [0.5, \"#f7f7f7\"], [0.6, \"#e6f5d0\"], [0.7, \"#b8e186\"], [0.8, \"#7fbc41\"], [0.9, \"#4d9221\"], [1, \"#276419\"]], \"sequential\": [[0.0, \"#0d0887\"], [0.1111111111111111, \"#46039f\"], [0.2222222222222222, \"#7201a8\"], [0.3333333333333333, \"#9c179e\"], [0.4444444444444444, \"#bd3786\"], [0.5555555555555556, \"#d8576b\"], [0.6666666666666666, \"#ed7953\"], [0.7777777777777778, \"#fb9f3a\"], [0.8888888888888888, \"#fdca26\"], [1.0, \"#f0f921\"]], \"sequentialminus\": [[0.0, \"#0d0887\"], [0.1111111111111111, \"#46039f\"], [0.2222222222222222, \"#7201a8\"], [0.3333333333333333, \"#9c179e\"], [0.4444444444444444, \"#bd3786\"], [0.5555555555555556, \"#d8576b\"], [0.6666666666666666, \"#ed7953\"], [0.7777777777777778, \"#fb9f3a\"], [0.8888888888888888, \"#fdca26\"], [1.0, \"#f0f921\"]]}, \"colorway\": [\"#636efa\", \"#EF553B\", \"#00cc96\", \"#ab63fa\", \"#FFA15A\", \"#19d3f3\", \"#FF6692\", \"#B6E880\", \"#FF97FF\", \"#FECB52\"], \"font\": {\"color\": \"#2a3f5f\"}, \"geo\": {\"bgcolor\": \"white\", \"lakecolor\": \"white\", \"landcolor\": \"#E5ECF6\", \"showlakes\": true, \"showland\": true, \"subunitcolor\": \"white\"}, \"hoverlabel\": {\"align\": \"left\"}, \"hovermode\": \"closest\", \"mapbox\": {\"style\": \"light\"}, \"paper_bgcolor\": \"white\", \"plot_bgcolor\": \"#E5ECF6\", \"polar\": {\"angularaxis\": {\"gridcolor\": \"white\", \"linecolor\": \"white\", \"ticks\": \"\"}, \"bgcolor\": \"#E5ECF6\", \"radialaxis\": {\"gridcolor\": \"white\", \"linecolor\": \"white\", \"ticks\": \"\"}}, \"scene\": {\"xaxis\": {\"backgroundcolor\": \"#E5ECF6\", \"gridcolor\": \"white\", \"gridwidth\": 2, \"linecolor\": \"white\", \"showbackground\": true, \"ticks\": \"\", \"zerolinecolor\": \"white\"}, \"yaxis\": {\"backgroundcolor\": \"#E5ECF6\", \"gridcolor\": \"white\", \"gridwidth\": 2, \"linecolor\": \"white\", \"showbackground\": true, \"ticks\": \"\", \"zerolinecolor\": \"white\"}, \"zaxis\": {\"backgroundcolor\": \"#E5ECF6\", \"gridcolor\": \"white\", \"gridwidth\": 2, \"linecolor\": \"white\", \"showbackground\": true, \"ticks\": \"\", \"zerolinecolor\": \"white\"}}, \"shapedefaults\": {\"line\": {\"color\": \"#2a3f5f\"}}, \"ternary\": {\"aaxis\": {\"gridcolor\": \"white\", \"linecolor\": \"white\", \"ticks\": \"\"}, \"baxis\": {\"gridcolor\": \"white\", \"linecolor\": \"white\", \"ticks\": \"\"}, \"bgcolor\": \"#E5ECF6\", \"caxis\": {\"gridcolor\": \"white\", \"linecolor\": \"white\", \"ticks\": \"\"}}, \"title\": {\"x\": 0.05}, \"xaxis\": {\"automargin\": true, \"gridcolor\": \"white\", \"linecolor\": \"white\", \"ticks\": \"\", \"title\": {\"standoff\": 15}, \"zerolinecolor\": \"white\", \"zerolinewidth\": 2}, \"yaxis\": {\"automargin\": true, \"gridcolor\": \"white\", \"linecolor\": \"white\", \"ticks\": \"\", \"title\": {\"standoff\": 15}, \"zerolinecolor\": \"white\", \"zerolinewidth\": 2}}}},                        {\"responsive\": true}                    ).then(function(){\n",
       "                            \n",
       "var gd = document.getElementById('6d2d21f1-5c36-465f-9409-cf2c0fe90623');\n",
       "var x = new MutationObserver(function (mutations, observer) {{\n",
       "        var display = window.getComputedStyle(gd).display;\n",
       "        if (!display || display === 'none') {{\n",
       "            console.log([gd, 'removed!']);\n",
       "            Plotly.purge(gd);\n",
       "            observer.disconnect();\n",
       "        }}\n",
       "}});\n",
       "\n",
       "// Listen for the removal of the full notebook cells\n",
       "var notebookContainer = gd.closest('#notebook-container');\n",
       "if (notebookContainer) {{\n",
       "    x.observe(notebookContainer, {childList: true});\n",
       "}}\n",
       "\n",
       "// Listen for the clearing of the current output cell\n",
       "var outputEl = gd.closest('.output');\n",
       "if (outputEl) {{\n",
       "    x.observe(outputEl, {childList: true});\n",
       "}}\n",
       "\n",
       "                        })                };                });            </script>        </div>"
      ]
     },
     "metadata": {},
     "output_type": "display_data"
    }
   ],
   "source": [
    "import pandas as pd\n",
    "import numpy as np\n",
    "import plotly.graph_objects as go\n",
    "# Read data from a csv\n",
    "# z_data = pd.read_csv('https://raw.githubusercontent.com/plotly/datasets/master/api_docs/mt_bruno_elevation.csv')\n",
    "# z = z_data.values\n",
    "# sh_0, sh_1 = z.shape\n",
    "# x, y = np.linspace(0, 1, sh_0), np.linspace(0, 1, sh_1)\n",
    "# fig = go.Figure(data=[go.Surface(z=df[\"Simulation time\"], x=df[\"memory_mb\"], y=df[\"copy_mb\"])])\n",
    "fig = go.Figure(data=[go.Scatter3d(z=df[\"Simulation time\"], x=df[\"memory_mb\"], y=df[\"copy_mb\"])])\n",
    "# fig.update_layout(title='Mt Bruno Elevation', autosize=False,\n",
    "#                   width=500, height=500,\n",
    "#                   margin=dict(l=65, r=50, b=65, t=90))\n",
    "plotly.offline.iplot(fig)"
   ]
  },
  {
   "cell_type": "code",
   "execution_count": 74,
   "metadata": {},
   "outputs": [
    {
     "data": {
      "text/plain": [
       "Index(['Build time', 'Simulation time', 'Total time', 'Simulated time',\n",
       "       'Max Resident Set Size', 'Approx. Global Max RSS Size',\n",
       "       'Max Local Page Faults', 'Global Page Faults', 'Max Output Blocks',\n",
       "       'Max Input Blocks', 'Max mempool usage', 'Global mempool usage',\n",
       "       'Global active activities', 'Current global TimeVortex depth',\n",
       "       'Max TimeVortex depth', 'Max Sync data size', 'Global Sync data size',\n",
       "       'memory_mb', 'copy_mb'],\n",
       "      dtype='object')"
      ]
     },
     "execution_count": 74,
     "metadata": {},
     "output_type": "execute_result"
    }
   ],
   "source": [
    "df.columns"
   ]
  },
  {
   "cell_type": "code",
   "execution_count": 77,
   "metadata": {},
   "outputs": [],
   "source": [
    "import plotly_express as px"
   ]
  },
  {
   "cell_type": "code",
   "execution_count": 78,
   "metadata": {
    "collapsed": true,
    "jupyter": {
     "outputs_hidden": true
    }
   },
   "outputs": [
    {
     "data": {
      "application/vnd.plotly.v1+json": {
       "config": {
        "linkText": "Export to plot.ly",
        "plotlyServerURL": "https://plot.ly",
        "showLink": false
       },
       "data": [
        {
         "hovertemplate": "memory_mb=%{x}<br>copy_mb=%{y}<br>Max Resident Set Size=%{z}<extra></extra>",
         "legendgroup": "",
         "marker": {
          "color": "#636efa",
          "symbol": "circle"
         },
         "mode": "markers",
         "name": "",
         "scene": "scene",
         "showlegend": false,
         "type": "scatter3d",
         "x": [
          "96",
          "160",
          "64",
          "192",
          "64",
          "256",
          "160",
          "192",
          "160",
          "96",
          "32",
          "256",
          "96",
          "160",
          "32",
          "96",
          "256",
          "192",
          "224",
          "64",
          "32",
          "192",
          "160",
          "128",
          "32",
          "224",
          "32",
          "256",
          "32",
          "192",
          "64",
          "256",
          "96",
          "64",
          "64",
          "224",
          "128",
          "256",
          "224",
          "128",
          "224",
          "96",
          "160",
          "128",
          "192",
          "128",
          "96",
          "224",
          "32",
          "160",
          "192",
          "32",
          "64",
          "256",
          "128",
          "96",
          "224",
          "128",
          "192",
          "128",
          "256",
          "160",
          "64",
          "224"
         ],
         "y": [
          "32",
          "96",
          "192",
          "256",
          "128",
          "64",
          "160",
          "32",
          "224",
          "256",
          "32",
          "128",
          "160",
          "256",
          "64",
          "64",
          "160",
          "192",
          "64",
          "64",
          "96",
          "96",
          "128",
          "32",
          "192",
          "224",
          "128",
          "192",
          "160",
          "160",
          "256",
          "256",
          "128",
          "96",
          "224",
          "192",
          "160",
          "96",
          "256",
          "192",
          "96",
          "192",
          "192",
          "128",
          "224",
          "256",
          "96",
          "160",
          "256",
          "32",
          "128",
          "224",
          "160",
          "224",
          "64",
          "224",
          "128",
          "224",
          "64",
          "96",
          "32",
          "64",
          "32",
          "32"
         ],
         "z": [
          332120000,
          823580000,
          1560960000,
          2052029999,
          1069340000,
          578180000,
          1315070000,
          332028000,
          1806400000,
          2052290000,
          331972000,
          1069580000,
          1315120000,
          2052719999,
          577716000,
          578056000,
          1315120000,
          1560740000,
          577832000,
          577608000,
          823564000,
          823388000,
          1069199999,
          332388000,
          1560830000,
          1806960000,
          1069040000,
          1561020000,
          1314880000,
          1314830000,
          2052220000,
          2052230000,
          1069059999,
          823888000,
          1806660000,
          1561210000,
          1315240000,
          823800000,
          2052509999,
          1560910000,
          823532000,
          1560640000,
          1560670000,
          1069340000,
          1806880000,
          2052280000,
          823852000,
          1315040000,
          2052360000,
          332004000,
          1069180000,
          1806570000,
          1315400000,
          1806380000,
          578148000,
          1807010000,
          1069480000,
          1806510000,
          577708000,
          823616000,
          332472000,
          578000000,
          332072000,
          332044000
         ]
        }
       ],
       "layout": {
        "autosize": true,
        "legend": {
         "tracegroupgap": 0
        },
        "margin": {
         "t": 60
        },
        "scene": {
         "aspectmode": "auto",
         "aspectratio": {
          "x": 1,
          "y": 1,
          "z": 1
         },
         "camera": {
          "center": {
           "x": 0,
           "y": 0,
           "z": 0
          },
          "eye": {
           "x": -3.4201762742787327,
           "y": 0.9097854804086417,
           "z": 0.680658157065837
          },
          "projection": {
           "type": "perspective"
          },
          "up": {
           "x": 0,
           "y": 0,
           "z": 1
          }
         },
         "domain": {
          "x": [
           0,
           1
          ],
          "y": [
           0,
           1
          ]
         },
         "xaxis": {
          "title": {
           "text": "memory_mb"
          },
          "type": "linear"
         },
         "yaxis": {
          "title": {
           "text": "copy_mb"
          },
          "type": "linear"
         },
         "zaxis": {
          "title": {
           "text": "Max Resident Set Size"
          },
          "type": "linear"
         }
        },
        "template": {
         "data": {
          "bar": [
           {
            "error_x": {
             "color": "#2a3f5f"
            },
            "error_y": {
             "color": "#2a3f5f"
            },
            "marker": {
             "line": {
              "color": "#E5ECF6",
              "width": 0.5
             }
            },
            "type": "bar"
           }
          ],
          "barpolar": [
           {
            "marker": {
             "line": {
              "color": "#E5ECF6",
              "width": 0.5
             }
            },
            "type": "barpolar"
           }
          ],
          "carpet": [
           {
            "aaxis": {
             "endlinecolor": "#2a3f5f",
             "gridcolor": "white",
             "linecolor": "white",
             "minorgridcolor": "white",
             "startlinecolor": "#2a3f5f"
            },
            "baxis": {
             "endlinecolor": "#2a3f5f",
             "gridcolor": "white",
             "linecolor": "white",
             "minorgridcolor": "white",
             "startlinecolor": "#2a3f5f"
            },
            "type": "carpet"
           }
          ],
          "choropleth": [
           {
            "colorbar": {
             "outlinewidth": 0,
             "ticks": ""
            },
            "type": "choropleth"
           }
          ],
          "contour": [
           {
            "colorbar": {
             "outlinewidth": 0,
             "ticks": ""
            },
            "colorscale": [
             [
              0,
              "#0d0887"
             ],
             [
              0.1111111111111111,
              "#46039f"
             ],
             [
              0.2222222222222222,
              "#7201a8"
             ],
             [
              0.3333333333333333,
              "#9c179e"
             ],
             [
              0.4444444444444444,
              "#bd3786"
             ],
             [
              0.5555555555555556,
              "#d8576b"
             ],
             [
              0.6666666666666666,
              "#ed7953"
             ],
             [
              0.7777777777777778,
              "#fb9f3a"
             ],
             [
              0.8888888888888888,
              "#fdca26"
             ],
             [
              1,
              "#f0f921"
             ]
            ],
            "type": "contour"
           }
          ],
          "contourcarpet": [
           {
            "colorbar": {
             "outlinewidth": 0,
             "ticks": ""
            },
            "type": "contourcarpet"
           }
          ],
          "heatmap": [
           {
            "colorbar": {
             "outlinewidth": 0,
             "ticks": ""
            },
            "colorscale": [
             [
              0,
              "#0d0887"
             ],
             [
              0.1111111111111111,
              "#46039f"
             ],
             [
              0.2222222222222222,
              "#7201a8"
             ],
             [
              0.3333333333333333,
              "#9c179e"
             ],
             [
              0.4444444444444444,
              "#bd3786"
             ],
             [
              0.5555555555555556,
              "#d8576b"
             ],
             [
              0.6666666666666666,
              "#ed7953"
             ],
             [
              0.7777777777777778,
              "#fb9f3a"
             ],
             [
              0.8888888888888888,
              "#fdca26"
             ],
             [
              1,
              "#f0f921"
             ]
            ],
            "type": "heatmap"
           }
          ],
          "heatmapgl": [
           {
            "colorbar": {
             "outlinewidth": 0,
             "ticks": ""
            },
            "colorscale": [
             [
              0,
              "#0d0887"
             ],
             [
              0.1111111111111111,
              "#46039f"
             ],
             [
              0.2222222222222222,
              "#7201a8"
             ],
             [
              0.3333333333333333,
              "#9c179e"
             ],
             [
              0.4444444444444444,
              "#bd3786"
             ],
             [
              0.5555555555555556,
              "#d8576b"
             ],
             [
              0.6666666666666666,
              "#ed7953"
             ],
             [
              0.7777777777777778,
              "#fb9f3a"
             ],
             [
              0.8888888888888888,
              "#fdca26"
             ],
             [
              1,
              "#f0f921"
             ]
            ],
            "type": "heatmapgl"
           }
          ],
          "histogram": [
           {
            "marker": {
             "colorbar": {
              "outlinewidth": 0,
              "ticks": ""
             }
            },
            "type": "histogram"
           }
          ],
          "histogram2d": [
           {
            "colorbar": {
             "outlinewidth": 0,
             "ticks": ""
            },
            "colorscale": [
             [
              0,
              "#0d0887"
             ],
             [
              0.1111111111111111,
              "#46039f"
             ],
             [
              0.2222222222222222,
              "#7201a8"
             ],
             [
              0.3333333333333333,
              "#9c179e"
             ],
             [
              0.4444444444444444,
              "#bd3786"
             ],
             [
              0.5555555555555556,
              "#d8576b"
             ],
             [
              0.6666666666666666,
              "#ed7953"
             ],
             [
              0.7777777777777778,
              "#fb9f3a"
             ],
             [
              0.8888888888888888,
              "#fdca26"
             ],
             [
              1,
              "#f0f921"
             ]
            ],
            "type": "histogram2d"
           }
          ],
          "histogram2dcontour": [
           {
            "colorbar": {
             "outlinewidth": 0,
             "ticks": ""
            },
            "colorscale": [
             [
              0,
              "#0d0887"
             ],
             [
              0.1111111111111111,
              "#46039f"
             ],
             [
              0.2222222222222222,
              "#7201a8"
             ],
             [
              0.3333333333333333,
              "#9c179e"
             ],
             [
              0.4444444444444444,
              "#bd3786"
             ],
             [
              0.5555555555555556,
              "#d8576b"
             ],
             [
              0.6666666666666666,
              "#ed7953"
             ],
             [
              0.7777777777777778,
              "#fb9f3a"
             ],
             [
              0.8888888888888888,
              "#fdca26"
             ],
             [
              1,
              "#f0f921"
             ]
            ],
            "type": "histogram2dcontour"
           }
          ],
          "mesh3d": [
           {
            "colorbar": {
             "outlinewidth": 0,
             "ticks": ""
            },
            "type": "mesh3d"
           }
          ],
          "parcoords": [
           {
            "line": {
             "colorbar": {
              "outlinewidth": 0,
              "ticks": ""
             }
            },
            "type": "parcoords"
           }
          ],
          "pie": [
           {
            "automargin": true,
            "type": "pie"
           }
          ],
          "scatter": [
           {
            "marker": {
             "colorbar": {
              "outlinewidth": 0,
              "ticks": ""
             }
            },
            "type": "scatter"
           }
          ],
          "scatter3d": [
           {
            "line": {
             "colorbar": {
              "outlinewidth": 0,
              "ticks": ""
             }
            },
            "marker": {
             "colorbar": {
              "outlinewidth": 0,
              "ticks": ""
             }
            },
            "type": "scatter3d"
           }
          ],
          "scattercarpet": [
           {
            "marker": {
             "colorbar": {
              "outlinewidth": 0,
              "ticks": ""
             }
            },
            "type": "scattercarpet"
           }
          ],
          "scattergeo": [
           {
            "marker": {
             "colorbar": {
              "outlinewidth": 0,
              "ticks": ""
             }
            },
            "type": "scattergeo"
           }
          ],
          "scattergl": [
           {
            "marker": {
             "colorbar": {
              "outlinewidth": 0,
              "ticks": ""
             }
            },
            "type": "scattergl"
           }
          ],
          "scattermapbox": [
           {
            "marker": {
             "colorbar": {
              "outlinewidth": 0,
              "ticks": ""
             }
            },
            "type": "scattermapbox"
           }
          ],
          "scatterpolar": [
           {
            "marker": {
             "colorbar": {
              "outlinewidth": 0,
              "ticks": ""
             }
            },
            "type": "scatterpolar"
           }
          ],
          "scatterpolargl": [
           {
            "marker": {
             "colorbar": {
              "outlinewidth": 0,
              "ticks": ""
             }
            },
            "type": "scatterpolargl"
           }
          ],
          "scatterternary": [
           {
            "marker": {
             "colorbar": {
              "outlinewidth": 0,
              "ticks": ""
             }
            },
            "type": "scatterternary"
           }
          ],
          "surface": [
           {
            "colorbar": {
             "outlinewidth": 0,
             "ticks": ""
            },
            "colorscale": [
             [
              0,
              "#0d0887"
             ],
             [
              0.1111111111111111,
              "#46039f"
             ],
             [
              0.2222222222222222,
              "#7201a8"
             ],
             [
              0.3333333333333333,
              "#9c179e"
             ],
             [
              0.4444444444444444,
              "#bd3786"
             ],
             [
              0.5555555555555556,
              "#d8576b"
             ],
             [
              0.6666666666666666,
              "#ed7953"
             ],
             [
              0.7777777777777778,
              "#fb9f3a"
             ],
             [
              0.8888888888888888,
              "#fdca26"
             ],
             [
              1,
              "#f0f921"
             ]
            ],
            "type": "surface"
           }
          ],
          "table": [
           {
            "cells": {
             "fill": {
              "color": "#EBF0F8"
             },
             "line": {
              "color": "white"
             }
            },
            "header": {
             "fill": {
              "color": "#C8D4E3"
             },
             "line": {
              "color": "white"
             }
            },
            "type": "table"
           }
          ]
         },
         "layout": {
          "annotationdefaults": {
           "arrowcolor": "#2a3f5f",
           "arrowhead": 0,
           "arrowwidth": 1
          },
          "coloraxis": {
           "colorbar": {
            "outlinewidth": 0,
            "ticks": ""
           }
          },
          "colorscale": {
           "diverging": [
            [
             0,
             "#8e0152"
            ],
            [
             0.1,
             "#c51b7d"
            ],
            [
             0.2,
             "#de77ae"
            ],
            [
             0.3,
             "#f1b6da"
            ],
            [
             0.4,
             "#fde0ef"
            ],
            [
             0.5,
             "#f7f7f7"
            ],
            [
             0.6,
             "#e6f5d0"
            ],
            [
             0.7,
             "#b8e186"
            ],
            [
             0.8,
             "#7fbc41"
            ],
            [
             0.9,
             "#4d9221"
            ],
            [
             1,
             "#276419"
            ]
           ],
           "sequential": [
            [
             0,
             "#0d0887"
            ],
            [
             0.1111111111111111,
             "#46039f"
            ],
            [
             0.2222222222222222,
             "#7201a8"
            ],
            [
             0.3333333333333333,
             "#9c179e"
            ],
            [
             0.4444444444444444,
             "#bd3786"
            ],
            [
             0.5555555555555556,
             "#d8576b"
            ],
            [
             0.6666666666666666,
             "#ed7953"
            ],
            [
             0.7777777777777778,
             "#fb9f3a"
            ],
            [
             0.8888888888888888,
             "#fdca26"
            ],
            [
             1,
             "#f0f921"
            ]
           ],
           "sequentialminus": [
            [
             0,
             "#0d0887"
            ],
            [
             0.1111111111111111,
             "#46039f"
            ],
            [
             0.2222222222222222,
             "#7201a8"
            ],
            [
             0.3333333333333333,
             "#9c179e"
            ],
            [
             0.4444444444444444,
             "#bd3786"
            ],
            [
             0.5555555555555556,
             "#d8576b"
            ],
            [
             0.6666666666666666,
             "#ed7953"
            ],
            [
             0.7777777777777778,
             "#fb9f3a"
            ],
            [
             0.8888888888888888,
             "#fdca26"
            ],
            [
             1,
             "#f0f921"
            ]
           ]
          },
          "colorway": [
           "#636efa",
           "#EF553B",
           "#00cc96",
           "#ab63fa",
           "#FFA15A",
           "#19d3f3",
           "#FF6692",
           "#B6E880",
           "#FF97FF",
           "#FECB52"
          ],
          "font": {
           "color": "#2a3f5f"
          },
          "geo": {
           "bgcolor": "white",
           "lakecolor": "white",
           "landcolor": "#E5ECF6",
           "showlakes": true,
           "showland": true,
           "subunitcolor": "white"
          },
          "hoverlabel": {
           "align": "left"
          },
          "hovermode": "closest",
          "mapbox": {
           "style": "light"
          },
          "paper_bgcolor": "white",
          "plot_bgcolor": "#E5ECF6",
          "polar": {
           "angularaxis": {
            "gridcolor": "white",
            "linecolor": "white",
            "ticks": ""
           },
           "bgcolor": "#E5ECF6",
           "radialaxis": {
            "gridcolor": "white",
            "linecolor": "white",
            "ticks": ""
           }
          },
          "scene": {
           "xaxis": {
            "backgroundcolor": "#E5ECF6",
            "gridcolor": "white",
            "gridwidth": 2,
            "linecolor": "white",
            "showbackground": true,
            "ticks": "",
            "zerolinecolor": "white"
           },
           "yaxis": {
            "backgroundcolor": "#E5ECF6",
            "gridcolor": "white",
            "gridwidth": 2,
            "linecolor": "white",
            "showbackground": true,
            "ticks": "",
            "zerolinecolor": "white"
           },
           "zaxis": {
            "backgroundcolor": "#E5ECF6",
            "gridcolor": "white",
            "gridwidth": 2,
            "linecolor": "white",
            "showbackground": true,
            "ticks": "",
            "zerolinecolor": "white"
           }
          },
          "shapedefaults": {
           "line": {
            "color": "#2a3f5f"
           }
          },
          "ternary": {
           "aaxis": {
            "gridcolor": "white",
            "linecolor": "white",
            "ticks": ""
           },
           "baxis": {
            "gridcolor": "white",
            "linecolor": "white",
            "ticks": ""
           },
           "bgcolor": "#E5ECF6",
           "caxis": {
            "gridcolor": "white",
            "linecolor": "white",
            "ticks": ""
           }
          },
          "title": {
           "x": 0.05
          },
          "xaxis": {
           "automargin": true,
           "gridcolor": "white",
           "linecolor": "white",
           "ticks": "",
           "title": {
            "standoff": 15
           },
           "zerolinecolor": "white",
           "zerolinewidth": 2
          },
          "yaxis": {
           "automargin": true,
           "gridcolor": "white",
           "linecolor": "white",
           "ticks": "",
           "title": {
            "standoff": 15
           },
           "zerolinecolor": "white",
           "zerolinewidth": 2
          }
         }
        }
       }
      },
      "image/png": "[encoded data removed]",
      "text/html": [
       "<div>                            <div id=\"51cfba13-d205-4cd8-a7f8-f6344d3a339c\" class=\"plotly-graph-div\" style=\"height:525px; width:100%;\"></div>            <script type=\"text/javascript\">                require([\"plotly\"], function(Plotly) {                    window.PLOTLYENV=window.PLOTLYENV || {};                                    if (document.getElementById(\"51cfba13-d205-4cd8-a7f8-f6344d3a339c\")) {                    Plotly.newPlot(                        \"51cfba13-d205-4cd8-a7f8-f6344d3a339c\",                        [{\"hovertemplate\": \"memory_mb=%{x}<br>copy_mb=%{y}<br>Max Resident Set Size=%{z}<extra></extra>\", \"legendgroup\": \"\", \"marker\": {\"color\": \"#636efa\", \"symbol\": \"circle\"}, \"mode\": \"markers\", \"name\": \"\", \"scene\": \"scene\", \"showlegend\": false, \"type\": \"scatter3d\", \"x\": [\"96\", \"160\", \"64\", \"192\", \"64\", \"256\", \"160\", \"192\", \"160\", \"96\", \"32\", \"256\", \"96\", \"160\", \"32\", \"96\", \"256\", \"192\", \"224\", \"64\", \"32\", \"192\", \"160\", \"128\", \"32\", \"224\", \"32\", \"256\", \"32\", \"192\", \"64\", \"256\", \"96\", \"64\", \"64\", \"224\", \"128\", \"256\", \"224\", \"128\", \"224\", \"96\", \"160\", \"128\", \"192\", \"128\", \"96\", \"224\", \"32\", \"160\", \"192\", \"32\", \"64\", \"256\", \"128\", \"96\", \"224\", \"128\", \"192\", \"128\", \"256\", \"160\", \"64\", \"224\"], \"y\": [\"32\", \"96\", \"192\", \"256\", \"128\", \"64\", \"160\", \"32\", \"224\", \"256\", \"32\", \"128\", \"160\", \"256\", \"64\", \"64\", \"160\", \"192\", \"64\", \"64\", \"96\", \"96\", \"128\", \"32\", \"192\", \"224\", \"128\", \"192\", \"160\", \"160\", \"256\", \"256\", \"128\", \"96\", \"224\", \"192\", \"160\", \"96\", \"256\", \"192\", \"96\", \"192\", \"192\", \"128\", \"224\", \"256\", \"96\", \"160\", \"256\", \"32\", \"128\", \"224\", \"160\", \"224\", \"64\", \"224\", \"128\", \"224\", \"64\", \"96\", \"32\", \"64\", \"32\", \"32\"], \"z\": [332120000, 823580000, 1560960000, 2052029999, 1069340000, 578180000, 1315070000, 332028000, 1806400000, 2052290000, 331972000, 1069580000, 1315120000, 2052719999, 577716000, 578056000, 1315120000, 1560740000, 577832000, 577608000, 823564000, 823388000, 1069199999, 332388000, 1560830000, 1806960000, 1069040000, 1561020000, 1314880000, 1314830000, 2052220000, 2052230000, 1069059999, 823888000, 1806660000, 1561210000, 1315240000, 823800000, 2052509999, 1560910000, 823532000, 1560640000, 1560670000, 1069340000, 1806880000, 2052280000, 823852000, 1315040000, 2052360000, 332004000, 1069180000, 1806570000, 1315400000, 1806380000, 578148000, 1807010000, 1069480000, 1806510000, 577708000, 823616000, 332472000, 578000000, 332072000, 332044000]}],                        {\"legend\": {\"tracegroupgap\": 0}, \"margin\": {\"t\": 60}, \"scene\": {\"domain\": {\"x\": [0.0, 1.0], \"y\": [0.0, 1.0]}, \"xaxis\": {\"title\": {\"text\": \"memory_mb\"}}, \"yaxis\": {\"title\": {\"text\": \"copy_mb\"}}, \"zaxis\": {\"title\": {\"text\": \"Max Resident Set Size\"}}}, \"template\": {\"data\": {\"bar\": [{\"error_x\": {\"color\": \"#2a3f5f\"}, \"error_y\": {\"color\": \"#2a3f5f\"}, \"marker\": {\"line\": {\"color\": \"#E5ECF6\", \"width\": 0.5}}, \"type\": \"bar\"}], \"barpolar\": [{\"marker\": {\"line\": {\"color\": \"#E5ECF6\", \"width\": 0.5}}, \"type\": \"barpolar\"}], \"carpet\": [{\"aaxis\": {\"endlinecolor\": \"#2a3f5f\", \"gridcolor\": \"white\", \"linecolor\": \"white\", \"minorgridcolor\": \"white\", \"startlinecolor\": \"#2a3f5f\"}, \"baxis\": {\"endlinecolor\": \"#2a3f5f\", \"gridcolor\": \"white\", \"linecolor\": \"white\", \"minorgridcolor\": \"white\", \"startlinecolor\": \"#2a3f5f\"}, \"type\": \"carpet\"}], \"choropleth\": [{\"colorbar\": {\"outlinewidth\": 0, \"ticks\": \"\"}, \"type\": \"choropleth\"}], \"contour\": [{\"colorbar\": {\"outlinewidth\": 0, \"ticks\": \"\"}, \"colorscale\": [[0.0, \"#0d0887\"], [0.1111111111111111, \"#46039f\"], [0.2222222222222222, \"#7201a8\"], [0.3333333333333333, \"#9c179e\"], [0.4444444444444444, \"#bd3786\"], [0.5555555555555556, \"#d8576b\"], [0.6666666666666666, \"#ed7953\"], [0.7777777777777778, \"#fb9f3a\"], [0.8888888888888888, \"#fdca26\"], [1.0, \"#f0f921\"]], \"type\": \"contour\"}], \"contourcarpet\": [{\"colorbar\": {\"outlinewidth\": 0, \"ticks\": \"\"}, \"type\": \"contourcarpet\"}], \"heatmap\": [{\"colorbar\": {\"outlinewidth\": 0, \"ticks\": \"\"}, \"colorscale\": [[0.0, \"#0d0887\"], [0.1111111111111111, \"#46039f\"], [0.2222222222222222, \"#7201a8\"], [0.3333333333333333, \"#9c179e\"], [0.4444444444444444, \"#bd3786\"], [0.5555555555555556, \"#d8576b\"], [0.6666666666666666, \"#ed7953\"], [0.7777777777777778, \"#fb9f3a\"], [0.8888888888888888, \"#fdca26\"], [1.0, \"#f0f921\"]], \"type\": \"heatmap\"}], \"heatmapgl\": [{\"colorbar\": {\"outlinewidth\": 0, \"ticks\": \"\"}, \"colorscale\": [[0.0, \"#0d0887\"], [0.1111111111111111, \"#46039f\"], [0.2222222222222222, \"#7201a8\"], [0.3333333333333333, \"#9c179e\"], [0.4444444444444444, \"#bd3786\"], [0.5555555555555556, \"#d8576b\"], [0.6666666666666666, \"#ed7953\"], [0.7777777777777778, \"#fb9f3a\"], [0.8888888888888888, \"#fdca26\"], [1.0, \"#f0f921\"]], \"type\": \"heatmapgl\"}], \"histogram\": [{\"marker\": {\"colorbar\": {\"outlinewidth\": 0, \"ticks\": \"\"}}, \"type\": \"histogram\"}], \"histogram2d\": [{\"colorbar\": {\"outlinewidth\": 0, \"ticks\": \"\"}, \"colorscale\": [[0.0, \"#0d0887\"], [0.1111111111111111, \"#46039f\"], [0.2222222222222222, \"#7201a8\"], [0.3333333333333333, \"#9c179e\"], [0.4444444444444444, \"#bd3786\"], [0.5555555555555556, \"#d8576b\"], [0.6666666666666666, \"#ed7953\"], [0.7777777777777778, \"#fb9f3a\"], [0.8888888888888888, \"#fdca26\"], [1.0, \"#f0f921\"]], \"type\": \"histogram2d\"}], \"histogram2dcontour\": [{\"colorbar\": {\"outlinewidth\": 0, \"ticks\": \"\"}, \"colorscale\": [[0.0, \"#0d0887\"], [0.1111111111111111, \"#46039f\"], [0.2222222222222222, \"#7201a8\"], [0.3333333333333333, \"#9c179e\"], [0.4444444444444444, \"#bd3786\"], [0.5555555555555556, \"#d8576b\"], [0.6666666666666666, \"#ed7953\"], [0.7777777777777778, \"#fb9f3a\"], [0.8888888888888888, \"#fdca26\"], [1.0, \"#f0f921\"]], \"type\": \"histogram2dcontour\"}], \"mesh3d\": [{\"colorbar\": {\"outlinewidth\": 0, \"ticks\": \"\"}, \"type\": \"mesh3d\"}], \"parcoords\": [{\"line\": {\"colorbar\": {\"outlinewidth\": 0, \"ticks\": \"\"}}, \"type\": \"parcoords\"}], \"pie\": [{\"automargin\": true, \"type\": \"pie\"}], \"scatter\": [{\"marker\": {\"colorbar\": {\"outlinewidth\": 0, \"ticks\": \"\"}}, \"type\": \"scatter\"}], \"scatter3d\": [{\"line\": {\"colorbar\": {\"outlinewidth\": 0, \"ticks\": \"\"}}, \"marker\": {\"colorbar\": {\"outlinewidth\": 0, \"ticks\": \"\"}}, \"type\": \"scatter3d\"}], \"scattercarpet\": [{\"marker\": {\"colorbar\": {\"outlinewidth\": 0, \"ticks\": \"\"}}, \"type\": \"scattercarpet\"}], \"scattergeo\": [{\"marker\": {\"colorbar\": {\"outlinewidth\": 0, \"ticks\": \"\"}}, \"type\": \"scattergeo\"}], \"scattergl\": [{\"marker\": {\"colorbar\": {\"outlinewidth\": 0, \"ticks\": \"\"}}, \"type\": \"scattergl\"}], \"scattermapbox\": [{\"marker\": {\"colorbar\": {\"outlinewidth\": 0, \"ticks\": \"\"}}, \"type\": \"scattermapbox\"}], \"scatterpolar\": [{\"marker\": {\"colorbar\": {\"outlinewidth\": 0, \"ticks\": \"\"}}, \"type\": \"scatterpolar\"}], \"scatterpolargl\": [{\"marker\": {\"colorbar\": {\"outlinewidth\": 0, \"ticks\": \"\"}}, \"type\": \"scatterpolargl\"}], \"scatterternary\": [{\"marker\": {\"colorbar\": {\"outlinewidth\": 0, \"ticks\": \"\"}}, \"type\": \"scatterternary\"}], \"surface\": [{\"colorbar\": {\"outlinewidth\": 0, \"ticks\": \"\"}, \"colorscale\": [[0.0, \"#0d0887\"], [0.1111111111111111, \"#46039f\"], [0.2222222222222222, \"#7201a8\"], [0.3333333333333333, \"#9c179e\"], [0.4444444444444444, \"#bd3786\"], [0.5555555555555556, \"#d8576b\"], [0.6666666666666666, \"#ed7953\"], [0.7777777777777778, \"#fb9f3a\"], [0.8888888888888888, \"#fdca26\"], [1.0, \"#f0f921\"]], \"type\": \"surface\"}], \"table\": [{\"cells\": {\"fill\": {\"color\": \"#EBF0F8\"}, \"line\": {\"color\": \"white\"}}, \"header\": {\"fill\": {\"color\": \"#C8D4E3\"}, \"line\": {\"color\": \"white\"}}, \"type\": \"table\"}]}, \"layout\": {\"annotationdefaults\": {\"arrowcolor\": \"#2a3f5f\", \"arrowhead\": 0, \"arrowwidth\": 1}, \"coloraxis\": {\"colorbar\": {\"outlinewidth\": 0, \"ticks\": \"\"}}, \"colorscale\": {\"diverging\": [[0, \"#8e0152\"], [0.1, \"#c51b7d\"], [0.2, \"#de77ae\"], [0.3, \"#f1b6da\"], [0.4, \"#fde0ef\"], [0.5, \"#f7f7f7\"], [0.6, \"#e6f5d0\"], [0.7, \"#b8e186\"], [0.8, \"#7fbc41\"], [0.9, \"#4d9221\"], [1, \"#276419\"]], \"sequential\": [[0.0, \"#0d0887\"], [0.1111111111111111, \"#46039f\"], [0.2222222222222222, \"#7201a8\"], [0.3333333333333333, \"#9c179e\"], [0.4444444444444444, \"#bd3786\"], [0.5555555555555556, \"#d8576b\"], [0.6666666666666666, \"#ed7953\"], [0.7777777777777778, \"#fb9f3a\"], [0.8888888888888888, \"#fdca26\"], [1.0, \"#f0f921\"]], \"sequentialminus\": [[0.0, \"#0d0887\"], [0.1111111111111111, \"#46039f\"], [0.2222222222222222, \"#7201a8\"], [0.3333333333333333, \"#9c179e\"], [0.4444444444444444, \"#bd3786\"], [0.5555555555555556, \"#d8576b\"], [0.6666666666666666, \"#ed7953\"], [0.7777777777777778, \"#fb9f3a\"], [0.8888888888888888, \"#fdca26\"], [1.0, \"#f0f921\"]]}, \"colorway\": [\"#636efa\", \"#EF553B\", \"#00cc96\", \"#ab63fa\", \"#FFA15A\", \"#19d3f3\", \"#FF6692\", \"#B6E880\", \"#FF97FF\", \"#FECB52\"], \"font\": {\"color\": \"#2a3f5f\"}, \"geo\": {\"bgcolor\": \"white\", \"lakecolor\": \"white\", \"landcolor\": \"#E5ECF6\", \"showlakes\": true, \"showland\": true, \"subunitcolor\": \"white\"}, \"hoverlabel\": {\"align\": \"left\"}, \"hovermode\": \"closest\", \"mapbox\": {\"style\": \"light\"}, \"paper_bgcolor\": \"white\", \"plot_bgcolor\": \"#E5ECF6\", \"polar\": {\"angularaxis\": {\"gridcolor\": \"white\", \"linecolor\": \"white\", \"ticks\": \"\"}, \"bgcolor\": \"#E5ECF6\", \"radialaxis\": {\"gridcolor\": \"white\", \"linecolor\": \"white\", \"ticks\": \"\"}}, \"scene\": {\"xaxis\": {\"backgroundcolor\": \"#E5ECF6\", \"gridcolor\": \"white\", \"gridwidth\": 2, \"linecolor\": \"white\", \"showbackground\": true, \"ticks\": \"\", \"zerolinecolor\": \"white\"}, \"yaxis\": {\"backgroundcolor\": \"#E5ECF6\", \"gridcolor\": \"white\", \"gridwidth\": 2, \"linecolor\": \"white\", \"showbackground\": true, \"ticks\": \"\", \"zerolinecolor\": \"white\"}, \"zaxis\": {\"backgroundcolor\": \"#E5ECF6\", \"gridcolor\": \"white\", \"gridwidth\": 2, \"linecolor\": \"white\", \"showbackground\": true, \"ticks\": \"\", \"zerolinecolor\": \"white\"}}, \"shapedefaults\": {\"line\": {\"color\": \"#2a3f5f\"}}, \"ternary\": {\"aaxis\": {\"gridcolor\": \"white\", \"linecolor\": \"white\", \"ticks\": \"\"}, \"baxis\": {\"gridcolor\": \"white\", \"linecolor\": \"white\", \"ticks\": \"\"}, \"bgcolor\": \"#E5ECF6\", \"caxis\": {\"gridcolor\": \"white\", \"linecolor\": \"white\", \"ticks\": \"\"}}, \"title\": {\"x\": 0.05}, \"xaxis\": {\"automargin\": true, \"gridcolor\": \"white\", \"linecolor\": \"white\", \"ticks\": \"\", \"title\": {\"standoff\": 15}, \"zerolinecolor\": \"white\", \"zerolinewidth\": 2}, \"yaxis\": {\"automargin\": true, \"gridcolor\": \"white\", \"linecolor\": \"white\", \"ticks\": \"\", \"title\": {\"standoff\": 15}, \"zerolinecolor\": \"white\", \"zerolinewidth\": 2}}}},                        {\"responsive\": true}                    ).then(function(){\n",
       "                            \n",
       "var gd = document.getElementById('51cfba13-d205-4cd8-a7f8-f6344d3a339c');\n",
       "var x = new MutationObserver(function (mutations, observer) {{\n",
       "        var display = window.getComputedStyle(gd).display;\n",
       "        if (!display || display === 'none') {{\n",
       "            console.log([gd, 'removed!']);\n",
       "            Plotly.purge(gd);\n",
       "            observer.disconnect();\n",
       "        }}\n",
       "}});\n",
       "\n",
       "// Listen for the removal of the full notebook cells\n",
       "var notebookContainer = gd.closest('#notebook-container');\n",
       "if (notebookContainer) {{\n",
       "    x.observe(notebookContainer, {childList: true});\n",
       "}}\n",
       "\n",
       "// Listen for the clearing of the current output cell\n",
       "var outputEl = gd.closest('.output');\n",
       "if (outputEl) {{\n",
       "    x.observe(outputEl, {childList: true});\n",
       "}}\n",
       "\n",
       "                        })                };                });            </script>        </div>"
      ]
     },
     "metadata": {},
     "output_type": "display_data"
    }
   ],
   "source": [
    "import pandas as pd\n",
    "import numpy as np\n",
    "import plotly.graph_objects as go\n",
    "# Read data from a csv\n",
    "# z_data = pd.read_csv('https://raw.githubusercontent.com/plotly/datasets/master/api_docs/mt_bruno_elevation.csv')\n",
    "# z = z_data.values\n",
    "# sh_0, sh_1 = z.shape\n",
    "# x, y = np.linspace(0, 1, sh_0), np.linspace(0, 1, sh_1)\n",
    "# fig = go.Figure(data=[go.Surface(z=df[\"Simulation time\"], x=df[\"memory_mb\"], y=df[\"copy_mb\"])])\n",
    "# fig = go.Figure(data=[go.Scatter3d(z=df[\"Max Resident Set Size\"], x=df[\"memory_mb\"], y=df[\"copy_mb\"], xlabel=\"hi\")])\n",
    "fig = px.scatter_3d(df, x = \"memory_mb\", y=\"copy_mb\", z=\"Max Resident Set Size\")\n",
    "# fig.update_layout(title='Mt Bruno Elevation', autosize=False,\n",
    "#                   width=500, height=500,\n",
    "#                   margin=dict(l=65, r=50, b=65, t=90))\n",
    "plotly.offline.iplot(fig)"
   ]
  },
  {
   "cell_type": "code",
   "execution_count": 79,
   "metadata": {},
   "outputs": [
    {
     "data": {
      "application/vnd.plotly.v1+json": {
       "config": {
        "linkText": "Export to plot.ly",
        "plotlyServerURL": "https://plot.ly",
        "showLink": false
       },
       "data": [
        {
         "hovertemplate": "memory_mb=%{x}<br>copy_mb=%{y}<br>Simulation time=%{z}<extra></extra>",
         "legendgroup": "",
         "marker": {
          "color": "#636efa",
          "symbol": "circle"
         },
         "mode": "markers",
         "name": "",
         "scene": "scene",
         "showlegend": false,
         "type": "scatter3d",
         "x": [
          "96",
          "160",
          "64",
          "192",
          "64",
          "256",
          "160",
          "192",
          "160",
          "96",
          "32",
          "256",
          "96",
          "160",
          "32",
          "96",
          "256",
          "192",
          "224",
          "64",
          "32",
          "192",
          "160",
          "128",
          "32",
          "224",
          "32",
          "256",
          "32",
          "192",
          "64",
          "256",
          "96",
          "64",
          "64",
          "224",
          "128",
          "256",
          "224",
          "128",
          "224",
          "96",
          "160",
          "128",
          "192",
          "128",
          "96",
          "224",
          "32",
          "160",
          "192",
          "32",
          "64",
          "256",
          "128",
          "96",
          "224",
          "128",
          "192",
          "128",
          "256",
          "160",
          "64",
          "224"
         ],
         "y": [
          "32",
          "96",
          "192",
          "256",
          "128",
          "64",
          "160",
          "32",
          "224",
          "256",
          "32",
          "128",
          "160",
          "256",
          "64",
          "64",
          "160",
          "192",
          "64",
          "64",
          "96",
          "96",
          "128",
          "32",
          "192",
          "224",
          "128",
          "192",
          "160",
          "160",
          "256",
          "256",
          "128",
          "96",
          "224",
          "192",
          "160",
          "96",
          "256",
          "192",
          "96",
          "192",
          "192",
          "128",
          "224",
          "256",
          "96",
          "160",
          "256",
          "32",
          "128",
          "224",
          "160",
          "224",
          "64",
          "224",
          "128",
          "224",
          "64",
          "96",
          "32",
          "64",
          "32",
          "32"
         ],
         "z": [
          1480297149000,
          4564176592000,
          9421627609000,
          12475424247000,
          6142734265000,
          3058759608000,
          7788634873000,
          1523184314000,
          11107313504000,
          12543931682000,
          1483205161000,
          6158203581000,
          7851529481000,
          12468462860000,
          3026318189000,
          3034106463000,
          7716321084000,
          9339243414000,
          3003365144000,
          3025097594000,
          4650051084000,
          4556682316000,
          6160122496000,
          1481934559000,
          9336372352000,
          11046193581000,
          6153780104000,
          9304335648000,
          7643445575000,
          7740966453000,
          12564120077000,
          12464819147000,
          6204769019000,
          4573541351000,
          10910893044000,
          9366113917000,
          7776694341000,
          4577840516000,
          12616425613000,
          9289771804000,
          4565147374000,
          9487116798000,
          9233295747000,
          6109340784000,
          11162736226000,
          12513001766000,
          4615339891000,
          7807054040000,
          12429799234000,
          1481598062000,
          6096735142000,
          10918626519000,
          7640876242000,
          10920673794000,
          3021386613000,
          11080557749000,
          6129371388000,
          10878316899000,
          2999275389000,
          4592194714000,
          1505909272000,
          3033813953000,
          1489865866000,
          1485778080000
         ]
        }
       ],
       "layout": {
        "autosize": true,
        "legend": {
         "tracegroupgap": 0
        },
        "margin": {
         "t": 60
        },
        "scene": {
         "aspectmode": "auto",
         "aspectratio": {
          "x": 1,
          "y": 1,
          "z": 1
         },
         "domain": {
          "x": [
           0,
           1
          ],
          "y": [
           0,
           1
          ]
         },
         "xaxis": {
          "title": {
           "text": "memory_mb"
          },
          "type": "linear"
         },
         "yaxis": {
          "title": {
           "text": "copy_mb"
          },
          "type": "linear"
         },
         "zaxis": {
          "title": {
           "text": "Simulation time"
          },
          "type": "linear"
         }
        },
        "template": {
         "data": {
          "bar": [
           {
            "error_x": {
             "color": "#2a3f5f"
            },
            "error_y": {
             "color": "#2a3f5f"
            },
            "marker": {
             "line": {
              "color": "#E5ECF6",
              "width": 0.5
             }
            },
            "type": "bar"
           }
          ],
          "barpolar": [
           {
            "marker": {
             "line": {
              "color": "#E5ECF6",
              "width": 0.5
             }
            },
            "type": "barpolar"
           }
          ],
          "carpet": [
           {
            "aaxis": {
             "endlinecolor": "#2a3f5f",
             "gridcolor": "white",
             "linecolor": "white",
             "minorgridcolor": "white",
             "startlinecolor": "#2a3f5f"
            },
            "baxis": {
             "endlinecolor": "#2a3f5f",
             "gridcolor": "white",
             "linecolor": "white",
             "minorgridcolor": "white",
             "startlinecolor": "#2a3f5f"
            },
            "type": "carpet"
           }
          ],
          "choropleth": [
           {
            "colorbar": {
             "outlinewidth": 0,
             "ticks": ""
            },
            "type": "choropleth"
           }
          ],
          "contour": [
           {
            "colorbar": {
             "outlinewidth": 0,
             "ticks": ""
            },
            "colorscale": [
             [
              0,
              "#0d0887"
             ],
             [
              0.1111111111111111,
              "#46039f"
             ],
             [
              0.2222222222222222,
              "#7201a8"
             ],
             [
              0.3333333333333333,
              "#9c179e"
             ],
             [
              0.4444444444444444,
              "#bd3786"
             ],
             [
              0.5555555555555556,
              "#d8576b"
             ],
             [
              0.6666666666666666,
              "#ed7953"
             ],
             [
              0.7777777777777778,
              "#fb9f3a"
             ],
             [
              0.8888888888888888,
              "#fdca26"
             ],
             [
              1,
              "#f0f921"
             ]
            ],
            "type": "contour"
           }
          ],
          "contourcarpet": [
           {
            "colorbar": {
             "outlinewidth": 0,
             "ticks": ""
            },
            "type": "contourcarpet"
           }
          ],
          "heatmap": [
           {
            "colorbar": {
             "outlinewidth": 0,
             "ticks": ""
            },
            "colorscale": [
             [
              0,
              "#0d0887"
             ],
             [
              0.1111111111111111,
              "#46039f"
             ],
             [
              0.2222222222222222,
              "#7201a8"
             ],
             [
              0.3333333333333333,
              "#9c179e"
             ],
             [
              0.4444444444444444,
              "#bd3786"
             ],
             [
              0.5555555555555556,
              "#d8576b"
             ],
             [
              0.6666666666666666,
              "#ed7953"
             ],
             [
              0.7777777777777778,
              "#fb9f3a"
             ],
             [
              0.8888888888888888,
              "#fdca26"
             ],
             [
              1,
              "#f0f921"
             ]
            ],
            "type": "heatmap"
           }
          ],
          "heatmapgl": [
           {
            "colorbar": {
             "outlinewidth": 0,
             "ticks": ""
            },
            "colorscale": [
             [
              0,
              "#0d0887"
             ],
             [
              0.1111111111111111,
              "#46039f"
             ],
             [
              0.2222222222222222,
              "#7201a8"
             ],
             [
              0.3333333333333333,
              "#9c179e"
             ],
             [
              0.4444444444444444,
              "#bd3786"
             ],
             [
              0.5555555555555556,
              "#d8576b"
             ],
             [
              0.6666666666666666,
              "#ed7953"
             ],
             [
              0.7777777777777778,
              "#fb9f3a"
             ],
             [
              0.8888888888888888,
              "#fdca26"
             ],
             [
              1,
              "#f0f921"
             ]
            ],
            "type": "heatmapgl"
           }
          ],
          "histogram": [
           {
            "marker": {
             "colorbar": {
              "outlinewidth": 0,
              "ticks": ""
             }
            },
            "type": "histogram"
           }
          ],
          "histogram2d": [
           {
            "colorbar": {
             "outlinewidth": 0,
             "ticks": ""
            },
            "colorscale": [
             [
              0,
              "#0d0887"
             ],
             [
              0.1111111111111111,
              "#46039f"
             ],
             [
              0.2222222222222222,
              "#7201a8"
             ],
             [
              0.3333333333333333,
              "#9c179e"
             ],
             [
              0.4444444444444444,
              "#bd3786"
             ],
             [
              0.5555555555555556,
              "#d8576b"
             ],
             [
              0.6666666666666666,
              "#ed7953"
             ],
             [
              0.7777777777777778,
              "#fb9f3a"
             ],
             [
              0.8888888888888888,
              "#fdca26"
             ],
             [
              1,
              "#f0f921"
             ]
            ],
            "type": "histogram2d"
           }
          ],
          "histogram2dcontour": [
           {
            "colorbar": {
             "outlinewidth": 0,
             "ticks": ""
            },
            "colorscale": [
             [
              0,
              "#0d0887"
             ],
             [
              0.1111111111111111,
              "#46039f"
             ],
             [
              0.2222222222222222,
              "#7201a8"
             ],
             [
              0.3333333333333333,
              "#9c179e"
             ],
             [
              0.4444444444444444,
              "#bd3786"
             ],
             [
              0.5555555555555556,
              "#d8576b"
             ],
             [
              0.6666666666666666,
              "#ed7953"
             ],
             [
              0.7777777777777778,
              "#fb9f3a"
             ],
             [
              0.8888888888888888,
              "#fdca26"
             ],
             [
              1,
              "#f0f921"
             ]
            ],
            "type": "histogram2dcontour"
           }
          ],
          "mesh3d": [
           {
            "colorbar": {
             "outlinewidth": 0,
             "ticks": ""
            },
            "type": "mesh3d"
           }
          ],
          "parcoords": [
           {
            "line": {
             "colorbar": {
              "outlinewidth": 0,
              "ticks": ""
             }
            },
            "type": "parcoords"
           }
          ],
          "pie": [
           {
            "automargin": true,
            "type": "pie"
           }
          ],
          "scatter": [
           {
            "marker": {
             "colorbar": {
              "outlinewidth": 0,
              "ticks": ""
             }
            },
            "type": "scatter"
           }
          ],
          "scatter3d": [
           {
            "line": {
             "colorbar": {
              "outlinewidth": 0,
              "ticks": ""
             }
            },
            "marker": {
             "colorbar": {
              "outlinewidth": 0,
              "ticks": ""
             }
            },
            "type": "scatter3d"
           }
          ],
          "scattercarpet": [
           {
            "marker": {
             "colorbar": {
              "outlinewidth": 0,
              "ticks": ""
             }
            },
            "type": "scattercarpet"
           }
          ],
          "scattergeo": [
           {
            "marker": {
             "colorbar": {
              "outlinewidth": 0,
              "ticks": ""
             }
            },
            "type": "scattergeo"
           }
          ],
          "scattergl": [
           {
            "marker": {
             "colorbar": {
              "outlinewidth": 0,
              "ticks": ""
             }
            },
            "type": "scattergl"
           }
          ],
          "scattermapbox": [
           {
            "marker": {
             "colorbar": {
              "outlinewidth": 0,
              "ticks": ""
             }
            },
            "type": "scattermapbox"
           }
          ],
          "scatterpolar": [
           {
            "marker": {
             "colorbar": {
              "outlinewidth": 0,
              "ticks": ""
             }
            },
            "type": "scatterpolar"
           }
          ],
          "scatterpolargl": [
           {
            "marker": {
             "colorbar": {
              "outlinewidth": 0,
              "ticks": ""
             }
            },
            "type": "scatterpolargl"
           }
          ],
          "scatterternary": [
           {
            "marker": {
             "colorbar": {
              "outlinewidth": 0,
              "ticks": ""
             }
            },
            "type": "scatterternary"
           }
          ],
          "surface": [
           {
            "colorbar": {
             "outlinewidth": 0,
             "ticks": ""
            },
            "colorscale": [
             [
              0,
              "#0d0887"
             ],
             [
              0.1111111111111111,
              "#46039f"
             ],
             [
              0.2222222222222222,
              "#7201a8"
             ],
             [
              0.3333333333333333,
              "#9c179e"
             ],
             [
              0.4444444444444444,
              "#bd3786"
             ],
             [
              0.5555555555555556,
              "#d8576b"
             ],
             [
              0.6666666666666666,
              "#ed7953"
             ],
             [
              0.7777777777777778,
              "#fb9f3a"
             ],
             [
              0.8888888888888888,
              "#fdca26"
             ],
             [
              1,
              "#f0f921"
             ]
            ],
            "type": "surface"
           }
          ],
          "table": [
           {
            "cells": {
             "fill": {
              "color": "#EBF0F8"
             },
             "line": {
              "color": "white"
             }
            },
            "header": {
             "fill": {
              "color": "#C8D4E3"
             },
             "line": {
              "color": "white"
             }
            },
            "type": "table"
           }
          ]
         },
         "layout": {
          "annotationdefaults": {
           "arrowcolor": "#2a3f5f",
           "arrowhead": 0,
           "arrowwidth": 1
          },
          "coloraxis": {
           "colorbar": {
            "outlinewidth": 0,
            "ticks": ""
           }
          },
          "colorscale": {
           "diverging": [
            [
             0,
             "#8e0152"
            ],
            [
             0.1,
             "#c51b7d"
            ],
            [
             0.2,
             "#de77ae"
            ],
            [
             0.3,
             "#f1b6da"
            ],
            [
             0.4,
             "#fde0ef"
            ],
            [
             0.5,
             "#f7f7f7"
            ],
            [
             0.6,
             "#e6f5d0"
            ],
            [
             0.7,
             "#b8e186"
            ],
            [
             0.8,
             "#7fbc41"
            ],
            [
             0.9,
             "#4d9221"
            ],
            [
             1,
             "#276419"
            ]
           ],
           "sequential": [
            [
             0,
             "#0d0887"
            ],
            [
             0.1111111111111111,
             "#46039f"
            ],
            [
             0.2222222222222222,
             "#7201a8"
            ],
            [
             0.3333333333333333,
             "#9c179e"
            ],
            [
             0.4444444444444444,
             "#bd3786"
            ],
            [
             0.5555555555555556,
             "#d8576b"
            ],
            [
             0.6666666666666666,
             "#ed7953"
            ],
            [
             0.7777777777777778,
             "#fb9f3a"
            ],
            [
             0.8888888888888888,
             "#fdca26"
            ],
            [
             1,
             "#f0f921"
            ]
           ],
           "sequentialminus": [
            [
             0,
             "#0d0887"
            ],
            [
             0.1111111111111111,
             "#46039f"
            ],
            [
             0.2222222222222222,
             "#7201a8"
            ],
            [
             0.3333333333333333,
             "#9c179e"
            ],
            [
             0.4444444444444444,
             "#bd3786"
            ],
            [
             0.5555555555555556,
             "#d8576b"
            ],
            [
             0.6666666666666666,
             "#ed7953"
            ],
            [
             0.7777777777777778,
             "#fb9f3a"
            ],
            [
             0.8888888888888888,
             "#fdca26"
            ],
            [
             1,
             "#f0f921"
            ]
           ]
          },
          "colorway": [
           "#636efa",
           "#EF553B",
           "#00cc96",
           "#ab63fa",
           "#FFA15A",
           "#19d3f3",
           "#FF6692",
           "#B6E880",
           "#FF97FF",
           "#FECB52"
          ],
          "font": {
           "color": "#2a3f5f"
          },
          "geo": {
           "bgcolor": "white",
           "lakecolor": "white",
           "landcolor": "#E5ECF6",
           "showlakes": true,
           "showland": true,
           "subunitcolor": "white"
          },
          "hoverlabel": {
           "align": "left"
          },
          "hovermode": "closest",
          "mapbox": {
           "style": "light"
          },
          "paper_bgcolor": "white",
          "plot_bgcolor": "#E5ECF6",
          "polar": {
           "angularaxis": {
            "gridcolor": "white",
            "linecolor": "white",
            "ticks": ""
           },
           "bgcolor": "#E5ECF6",
           "radialaxis": {
            "gridcolor": "white",
            "linecolor": "white",
            "ticks": ""
           }
          },
          "scene": {
           "xaxis": {
            "backgroundcolor": "#E5ECF6",
            "gridcolor": "white",
            "gridwidth": 2,
            "linecolor": "white",
            "showbackground": true,
            "ticks": "",
            "zerolinecolor": "white"
           },
           "yaxis": {
            "backgroundcolor": "#E5ECF6",
            "gridcolor": "white",
            "gridwidth": 2,
            "linecolor": "white",
            "showbackground": true,
            "ticks": "",
            "zerolinecolor": "white"
           },
           "zaxis": {
            "backgroundcolor": "#E5ECF6",
            "gridcolor": "white",
            "gridwidth": 2,
            "linecolor": "white",
            "showbackground": true,
            "ticks": "",
            "zerolinecolor": "white"
           }
          },
          "shapedefaults": {
           "line": {
            "color": "#2a3f5f"
           }
          },
          "ternary": {
           "aaxis": {
            "gridcolor": "white",
            "linecolor": "white",
            "ticks": ""
           },
           "baxis": {
            "gridcolor": "white",
            "linecolor": "white",
            "ticks": ""
           },
           "bgcolor": "#E5ECF6",
           "caxis": {
            "gridcolor": "white",
            "linecolor": "white",
            "ticks": ""
           }
          },
          "title": {
           "x": 0.05
          },
          "xaxis": {
           "automargin": true,
           "gridcolor": "white",
           "linecolor": "white",
           "ticks": "",
           "title": {
            "standoff": 15
           },
           "zerolinecolor": "white",
           "zerolinewidth": 2
          },
          "yaxis": {
           "automargin": true,
           "gridcolor": "white",
           "linecolor": "white",
           "ticks": "",
           "title": {
            "standoff": 15
           },
           "zerolinecolor": "white",
           "zerolinewidth": 2
          }
         }
        }
       }
      },
      "image/png": "[encoded data removed]",
      "text/html": [
       "<div>                            <div id=\"bb822fe4-b07c-468d-87f6-08eaad722c10\" class=\"plotly-graph-div\" style=\"height:525px; width:100%;\"></div>            <script type=\"text/javascript\">                require([\"plotly\"], function(Plotly) {                    window.PLOTLYENV=window.PLOTLYENV || {};                                    if (document.getElementById(\"bb822fe4-b07c-468d-87f6-08eaad722c10\")) {                    Plotly.newPlot(                        \"bb822fe4-b07c-468d-87f6-08eaad722c10\",                        [{\"hovertemplate\": \"memory_mb=%{x}<br>copy_mb=%{y}<br>Simulation time=%{z}<extra></extra>\", \"legendgroup\": \"\", \"marker\": {\"color\": \"#636efa\", \"symbol\": \"circle\"}, \"mode\": \"markers\", \"name\": \"\", \"scene\": \"scene\", \"showlegend\": false, \"type\": \"scatter3d\", \"x\": [\"96\", \"160\", \"64\", \"192\", \"64\", \"256\", \"160\", \"192\", \"160\", \"96\", \"32\", \"256\", \"96\", \"160\", \"32\", \"96\", \"256\", \"192\", \"224\", \"64\", \"32\", \"192\", \"160\", \"128\", \"32\", \"224\", \"32\", \"256\", \"32\", \"192\", \"64\", \"256\", \"96\", \"64\", \"64\", \"224\", \"128\", \"256\", \"224\", \"128\", \"224\", \"96\", \"160\", \"128\", \"192\", \"128\", \"96\", \"224\", \"32\", \"160\", \"192\", \"32\", \"64\", \"256\", \"128\", \"96\", \"224\", \"128\", \"192\", \"128\", \"256\", \"160\", \"64\", \"224\"], \"y\": [\"32\", \"96\", \"192\", \"256\", \"128\", \"64\", \"160\", \"32\", \"224\", \"256\", \"32\", \"128\", \"160\", \"256\", \"64\", \"64\", \"160\", \"192\", \"64\", \"64\", \"96\", \"96\", \"128\", \"32\", \"192\", \"224\", \"128\", \"192\", \"160\", \"160\", \"256\", \"256\", \"128\", \"96\", \"224\", \"192\", \"160\", \"96\", \"256\", \"192\", \"96\", \"192\", \"192\", \"128\", \"224\", \"256\", \"96\", \"160\", \"256\", \"32\", \"128\", \"224\", \"160\", \"224\", \"64\", \"224\", \"128\", \"224\", \"64\", \"96\", \"32\", \"64\", \"32\", \"32\"], \"z\": [1480297149000, 4564176592000, 9421627609000, 12475424247000, 6142734265000, 3058759608000, 7788634873000, 1523184314000, 11107313504000, 12543931682000, 1483205161000, 6158203581000, 7851529481000, 12468462860000, 3026318189000, 3034106463000, 7716321084000, 9339243414000, 3003365144000, 3025097594000, 4650051084000, 4556682316000, 6160122496000, 1481934559000, 9336372352000, 11046193581000, 6153780104000, 9304335648000, 7643445575000, 7740966453000, 12564120077000, 12464819147000, 6204769019000, 4573541351000, 10910893044000, 9366113917000, 7776694341000, 4577840516000, 12616425613000, 9289771804000, 4565147374000, 9487116798000, 9233295747000, 6109340784000, 11162736226000, 12513001766000, 4615339891000, 7807054040000, 12429799234000, 1481598062000, 6096735142000, 10918626519000, 7640876242000, 10920673794000, 3021386613000, 11080557749000, 6129371388000, 10878316899000, 2999275389000, 4592194714000, 1505909272000, 3033813953000, 1489865866000, 1485778080000]}],                        {\"legend\": {\"tracegroupgap\": 0}, \"margin\": {\"t\": 60}, \"scene\": {\"domain\": {\"x\": [0.0, 1.0], \"y\": [0.0, 1.0]}, \"xaxis\": {\"title\": {\"text\": \"memory_mb\"}}, \"yaxis\": {\"title\": {\"text\": \"copy_mb\"}}, \"zaxis\": {\"title\": {\"text\": \"Simulation time\"}}}, \"template\": {\"data\": {\"bar\": [{\"error_x\": {\"color\": \"#2a3f5f\"}, \"error_y\": {\"color\": \"#2a3f5f\"}, \"marker\": {\"line\": {\"color\": \"#E5ECF6\", \"width\": 0.5}}, \"type\": \"bar\"}], \"barpolar\": [{\"marker\": {\"line\": {\"color\": \"#E5ECF6\", \"width\": 0.5}}, \"type\": \"barpolar\"}], \"carpet\": [{\"aaxis\": {\"endlinecolor\": \"#2a3f5f\", \"gridcolor\": \"white\", \"linecolor\": \"white\", \"minorgridcolor\": \"white\", \"startlinecolor\": \"#2a3f5f\"}, \"baxis\": {\"endlinecolor\": \"#2a3f5f\", \"gridcolor\": \"white\", \"linecolor\": \"white\", \"minorgridcolor\": \"white\", \"startlinecolor\": \"#2a3f5f\"}, \"type\": \"carpet\"}], \"choropleth\": [{\"colorbar\": {\"outlinewidth\": 0, \"ticks\": \"\"}, \"type\": \"choropleth\"}], \"contour\": [{\"colorbar\": {\"outlinewidth\": 0, \"ticks\": \"\"}, \"colorscale\": [[0.0, \"#0d0887\"], [0.1111111111111111, \"#46039f\"], [0.2222222222222222, \"#7201a8\"], [0.3333333333333333, \"#9c179e\"], [0.4444444444444444, \"#bd3786\"], [0.5555555555555556, \"#d8576b\"], [0.6666666666666666, \"#ed7953\"], [0.7777777777777778, \"#fb9f3a\"], [0.8888888888888888, \"#fdca26\"], [1.0, \"#f0f921\"]], \"type\": \"contour\"}], \"contourcarpet\": [{\"colorbar\": {\"outlinewidth\": 0, \"ticks\": \"\"}, \"type\": \"contourcarpet\"}], \"heatmap\": [{\"colorbar\": {\"outlinewidth\": 0, \"ticks\": \"\"}, \"colorscale\": [[0.0, \"#0d0887\"], [0.1111111111111111, \"#46039f\"], [0.2222222222222222, \"#7201a8\"], [0.3333333333333333, \"#9c179e\"], [0.4444444444444444, \"#bd3786\"], [0.5555555555555556, \"#d8576b\"], [0.6666666666666666, \"#ed7953\"], [0.7777777777777778, \"#fb9f3a\"], [0.8888888888888888, \"#fdca26\"], [1.0, \"#f0f921\"]], \"type\": \"heatmap\"}], \"heatmapgl\": [{\"colorbar\": {\"outlinewidth\": 0, \"ticks\": \"\"}, \"colorscale\": [[0.0, \"#0d0887\"], [0.1111111111111111, \"#46039f\"], [0.2222222222222222, \"#7201a8\"], [0.3333333333333333, \"#9c179e\"], [0.4444444444444444, \"#bd3786\"], [0.5555555555555556, \"#d8576b\"], [0.6666666666666666, \"#ed7953\"], [0.7777777777777778, \"#fb9f3a\"], [0.8888888888888888, \"#fdca26\"], [1.0, \"#f0f921\"]], \"type\": \"heatmapgl\"}], \"histogram\": [{\"marker\": {\"colorbar\": {\"outlinewidth\": 0, \"ticks\": \"\"}}, \"type\": \"histogram\"}], \"histogram2d\": [{\"colorbar\": {\"outlinewidth\": 0, \"ticks\": \"\"}, \"colorscale\": [[0.0, \"#0d0887\"], [0.1111111111111111, \"#46039f\"], [0.2222222222222222, \"#7201a8\"], [0.3333333333333333, \"#9c179e\"], [0.4444444444444444, \"#bd3786\"], [0.5555555555555556, \"#d8576b\"], [0.6666666666666666, \"#ed7953\"], [0.7777777777777778, \"#fb9f3a\"], [0.8888888888888888, \"#fdca26\"], [1.0, \"#f0f921\"]], \"type\": \"histogram2d\"}], \"histogram2dcontour\": [{\"colorbar\": {\"outlinewidth\": 0, \"ticks\": \"\"}, \"colorscale\": [[0.0, \"#0d0887\"], [0.1111111111111111, \"#46039f\"], [0.2222222222222222, \"#7201a8\"], [0.3333333333333333, \"#9c179e\"], [0.4444444444444444, \"#bd3786\"], [0.5555555555555556, \"#d8576b\"], [0.6666666666666666, \"#ed7953\"], [0.7777777777777778, \"#fb9f3a\"], [0.8888888888888888, \"#fdca26\"], [1.0, \"#f0f921\"]], \"type\": \"histogram2dcontour\"}], \"mesh3d\": [{\"colorbar\": {\"outlinewidth\": 0, \"ticks\": \"\"}, \"type\": \"mesh3d\"}], \"parcoords\": [{\"line\": {\"colorbar\": {\"outlinewidth\": 0, \"ticks\": \"\"}}, \"type\": \"parcoords\"}], \"pie\": [{\"automargin\": true, \"type\": \"pie\"}], \"scatter\": [{\"marker\": {\"colorbar\": {\"outlinewidth\": 0, \"ticks\": \"\"}}, \"type\": \"scatter\"}], \"scatter3d\": [{\"line\": {\"colorbar\": {\"outlinewidth\": 0, \"ticks\": \"\"}}, \"marker\": {\"colorbar\": {\"outlinewidth\": 0, \"ticks\": \"\"}}, \"type\": \"scatter3d\"}], \"scattercarpet\": [{\"marker\": {\"colorbar\": {\"outlinewidth\": 0, \"ticks\": \"\"}}, \"type\": \"scattercarpet\"}], \"scattergeo\": [{\"marker\": {\"colorbar\": {\"outlinewidth\": 0, \"ticks\": \"\"}}, \"type\": \"scattergeo\"}], \"scattergl\": [{\"marker\": {\"colorbar\": {\"outlinewidth\": 0, \"ticks\": \"\"}}, \"type\": \"scattergl\"}], \"scattermapbox\": [{\"marker\": {\"colorbar\": {\"outlinewidth\": 0, \"ticks\": \"\"}}, \"type\": \"scattermapbox\"}], \"scatterpolar\": [{\"marker\": {\"colorbar\": {\"outlinewidth\": 0, \"ticks\": \"\"}}, \"type\": \"scatterpolar\"}], \"scatterpolargl\": [{\"marker\": {\"colorbar\": {\"outlinewidth\": 0, \"ticks\": \"\"}}, \"type\": \"scatterpolargl\"}], \"scatterternary\": [{\"marker\": {\"colorbar\": {\"outlinewidth\": 0, \"ticks\": \"\"}}, \"type\": \"scatterternary\"}], \"surface\": [{\"colorbar\": {\"outlinewidth\": 0, \"ticks\": \"\"}, \"colorscale\": [[0.0, \"#0d0887\"], [0.1111111111111111, \"#46039f\"], [0.2222222222222222, \"#7201a8\"], [0.3333333333333333, \"#9c179e\"], [0.4444444444444444, \"#bd3786\"], [0.5555555555555556, \"#d8576b\"], [0.6666666666666666, \"#ed7953\"], [0.7777777777777778, \"#fb9f3a\"], [0.8888888888888888, \"#fdca26\"], [1.0, \"#f0f921\"]], \"type\": \"surface\"}], \"table\": [{\"cells\": {\"fill\": {\"color\": \"#EBF0F8\"}, \"line\": {\"color\": \"white\"}}, \"header\": {\"fill\": {\"color\": \"#C8D4E3\"}, \"line\": {\"color\": \"white\"}}, \"type\": \"table\"}]}, \"layout\": {\"annotationdefaults\": {\"arrowcolor\": \"#2a3f5f\", \"arrowhead\": 0, \"arrowwidth\": 1}, \"coloraxis\": {\"colorbar\": {\"outlinewidth\": 0, \"ticks\": \"\"}}, \"colorscale\": {\"diverging\": [[0, \"#8e0152\"], [0.1, \"#c51b7d\"], [0.2, \"#de77ae\"], [0.3, \"#f1b6da\"], [0.4, \"#fde0ef\"], [0.5, \"#f7f7f7\"], [0.6, \"#e6f5d0\"], [0.7, \"#b8e186\"], [0.8, \"#7fbc41\"], [0.9, \"#4d9221\"], [1, \"#276419\"]], \"sequential\": [[0.0, \"#0d0887\"], [0.1111111111111111, \"#46039f\"], [0.2222222222222222, \"#7201a8\"], [0.3333333333333333, \"#9c179e\"], [0.4444444444444444, \"#bd3786\"], [0.5555555555555556, \"#d8576b\"], [0.6666666666666666, \"#ed7953\"], [0.7777777777777778, \"#fb9f3a\"], [0.8888888888888888, \"#fdca26\"], [1.0, \"#f0f921\"]], \"sequentialminus\": [[0.0, \"#0d0887\"], [0.1111111111111111, \"#46039f\"], [0.2222222222222222, \"#7201a8\"], [0.3333333333333333, \"#9c179e\"], [0.4444444444444444, \"#bd3786\"], [0.5555555555555556, \"#d8576b\"], [0.6666666666666666, \"#ed7953\"], [0.7777777777777778, \"#fb9f3a\"], [0.8888888888888888, \"#fdca26\"], [1.0, \"#f0f921\"]]}, \"colorway\": [\"#636efa\", \"#EF553B\", \"#00cc96\", \"#ab63fa\", \"#FFA15A\", \"#19d3f3\", \"#FF6692\", \"#B6E880\", \"#FF97FF\", \"#FECB52\"], \"font\": {\"color\": \"#2a3f5f\"}, \"geo\": {\"bgcolor\": \"white\", \"lakecolor\": \"white\", \"landcolor\": \"#E5ECF6\", \"showlakes\": true, \"showland\": true, \"subunitcolor\": \"white\"}, \"hoverlabel\": {\"align\": \"left\"}, \"hovermode\": \"closest\", \"mapbox\": {\"style\": \"light\"}, \"paper_bgcolor\": \"white\", \"plot_bgcolor\": \"#E5ECF6\", \"polar\": {\"angularaxis\": {\"gridcolor\": \"white\", \"linecolor\": \"white\", \"ticks\": \"\"}, \"bgcolor\": \"#E5ECF6\", \"radialaxis\": {\"gridcolor\": \"white\", \"linecolor\": \"white\", \"ticks\": \"\"}}, \"scene\": {\"xaxis\": {\"backgroundcolor\": \"#E5ECF6\", \"gridcolor\": \"white\", \"gridwidth\": 2, \"linecolor\": \"white\", \"showbackground\": true, \"ticks\": \"\", \"zerolinecolor\": \"white\"}, \"yaxis\": {\"backgroundcolor\": \"#E5ECF6\", \"gridcolor\": \"white\", \"gridwidth\": 2, \"linecolor\": \"white\", \"showbackground\": true, \"ticks\": \"\", \"zerolinecolor\": \"white\"}, \"zaxis\": {\"backgroundcolor\": \"#E5ECF6\", \"gridcolor\": \"white\", \"gridwidth\": 2, \"linecolor\": \"white\", \"showbackground\": true, \"ticks\": \"\", \"zerolinecolor\": \"white\"}}, \"shapedefaults\": {\"line\": {\"color\": \"#2a3f5f\"}}, \"ternary\": {\"aaxis\": {\"gridcolor\": \"white\", \"linecolor\": \"white\", \"ticks\": \"\"}, \"baxis\": {\"gridcolor\": \"white\", \"linecolor\": \"white\", \"ticks\": \"\"}, \"bgcolor\": \"#E5ECF6\", \"caxis\": {\"gridcolor\": \"white\", \"linecolor\": \"white\", \"ticks\": \"\"}}, \"title\": {\"x\": 0.05}, \"xaxis\": {\"automargin\": true, \"gridcolor\": \"white\", \"linecolor\": \"white\", \"ticks\": \"\", \"title\": {\"standoff\": 15}, \"zerolinecolor\": \"white\", \"zerolinewidth\": 2}, \"yaxis\": {\"automargin\": true, \"gridcolor\": \"white\", \"linecolor\": \"white\", \"ticks\": \"\", \"title\": {\"standoff\": 15}, \"zerolinecolor\": \"white\", \"zerolinewidth\": 2}}}},                        {\"responsive\": true}                    ).then(function(){\n",
       "                            \n",
       "var gd = document.getElementById('bb822fe4-b07c-468d-87f6-08eaad722c10');\n",
       "var x = new MutationObserver(function (mutations, observer) {{\n",
       "        var display = window.getComputedStyle(gd).display;\n",
       "        if (!display || display === 'none') {{\n",
       "            console.log([gd, 'removed!']);\n",
       "            Plotly.purge(gd);\n",
       "            observer.disconnect();\n",
       "        }}\n",
       "}});\n",
       "\n",
       "// Listen for the removal of the full notebook cells\n",
       "var notebookContainer = gd.closest('#notebook-container');\n",
       "if (notebookContainer) {{\n",
       "    x.observe(notebookContainer, {childList: true});\n",
       "}}\n",
       "\n",
       "// Listen for the clearing of the current output cell\n",
       "var outputEl = gd.closest('.output');\n",
       "if (outputEl) {{\n",
       "    x.observe(outputEl, {childList: true});\n",
       "}}\n",
       "\n",
       "                        })                };                });            </script>        </div>"
      ]
     },
     "metadata": {},
     "output_type": "display_data"
    }
   ],
   "source": [
    "import pandas as pd\n",
    "import numpy as np\n",
    "import plotly.graph_objects as go\n",
    "# Read data from a csv\n",
    "# z_data = pd.read_csv('https://raw.githubusercontent.com/plotly/datasets/master/api_docs/mt_bruno_elevation.csv')\n",
    "# z = z_data.values\n",
    "# sh_0, sh_1 = z.shape\n",
    "# x, y = np.linspace(0, 1, sh_0), np.linspace(0, 1, sh_1)\n",
    "# fig = go.Figure(data=[go.Surface(z=df[\"Simulation time\"], x=df[\"memory_mb\"], y=df[\"copy_mb\"])])\n",
    "# fig = go.Figure(data=[go.Scatter3d(z=df[\"Max Resident Set Size\"], x=df[\"memory_mb\"], y=df[\"copy_mb\"], xlabel=\"hi\")])\n",
    "fig = px.scatter_3d(df, x = \"memory_mb\", y=\"copy_mb\", z=\"Simulation time\")\n",
    "# fig.update_layout(title='Mt Bruno Elevation', autosize=False,\n",
    "#                   width=500, height=500,\n",
    "#                   margin=dict(l=65, r=50, b=65, t=90))\n",
    "plotly.offline.iplot(fig)"
   ]
  }
 ],
 "metadata": {
  "kernelspec": {
   "display_name": "Python 3",
   "language": "python",
   "name": "python3"
  },
  "language_info": {
   "codemirror_mode": {
    "name": "ipython",
    "version": 3
   },
   "file_extension": ".py",
   "mimetype": "text/x-python",
   "name": "python",
   "nbconvert_exporter": "python",
   "pygments_lexer": "ipython3",
   "version": "3.6.9"
  }
 },
 "nbformat": 4,
 "nbformat_minor": 4
}
